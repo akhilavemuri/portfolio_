{
 "cells": [
  {
   "cell_type": "markdown",
   "metadata": {},
   "source": [
    "# Part I - Prosper Loan Data Exploration\n",
    "## by Akhila\n",
    "\n",
    "\n",
    "## Preliminary Wrangling\n"
   ]
  },
  {
   "cell_type": "code",
   "execution_count": 42,
   "metadata": {},
   "outputs": [],
   "source": [
    "# import all packages and set plots to be embedded inline\n",
    "import numpy as np\n",
    "import pandas as pd\n",
    "import matplotlib.pyplot as plt\n",
    "import seaborn as sb\n",
    "\n",
    "%matplotlib inline"
   ]
  },
  {
   "cell_type": "markdown",
   "metadata": {},
   "source": [
    "> Load in your dataset and describe its properties through the questions below. Try and motivate your exploration goals through this section.\n"
   ]
  },
  {
   "cell_type": "code",
   "execution_count": 43,
   "metadata": {},
   "outputs": [],
   "source": [
    "# load in the dataset into a apndas dataframe, print statistics\n",
    "loandata = pd.read_csv('prosperLoanData.csv')\n"
   ]
  },
  {
   "cell_type": "code",
   "execution_count": 44,
   "metadata": {},
   "outputs": [
    {
     "name": "stdout",
     "output_type": "stream",
     "text": [
      "(113937, 81)\n",
      "ListingKey                              object\n",
      "ListingNumber                            int64\n",
      "ListingCreationDate                     object\n",
      "CreditGrade                             object\n",
      "Term                                     int64\n",
      "LoanStatus                              object\n",
      "ClosedDate                              object\n",
      "BorrowerAPR                            float64\n",
      "BorrowerRate                           float64\n",
      "LenderYield                            float64\n",
      "EstimatedEffectiveYield                float64\n",
      "EstimatedLoss                          float64\n",
      "EstimatedReturn                        float64\n",
      "ProsperRating (numeric)                float64\n",
      "ProsperRating (Alpha)                   object\n",
      "ProsperScore                           float64\n",
      "ListingCategory (numeric)                int64\n",
      "BorrowerState                           object\n",
      "Occupation                              object\n",
      "EmploymentStatus                        object\n",
      "EmploymentStatusDuration               float64\n",
      "IsBorrowerHomeowner                       bool\n",
      "CurrentlyInGroup                          bool\n",
      "GroupKey                                object\n",
      "DateCreditPulled                        object\n",
      "CreditScoreRangeLower                  float64\n",
      "CreditScoreRangeUpper                  float64\n",
      "FirstRecordedCreditLine                 object\n",
      "CurrentCreditLines                     float64\n",
      "OpenCreditLines                        float64\n",
      "                                        ...   \n",
      "TotalProsperLoans                      float64\n",
      "TotalProsperPaymentsBilled             float64\n",
      "OnTimeProsperPayments                  float64\n",
      "ProsperPaymentsLessThanOneMonthLate    float64\n",
      "ProsperPaymentsOneMonthPlusLate        float64\n",
      "ProsperPrincipalBorrowed               float64\n",
      "ProsperPrincipalOutstanding            float64\n",
      "ScorexChangeAtTimeOfListing            float64\n",
      "LoanCurrentDaysDelinquent                int64\n",
      "LoanFirstDefaultedCycleNumber          float64\n",
      "LoanMonthsSinceOrigination               int64\n",
      "LoanNumber                               int64\n",
      "LoanOriginalAmount                       int64\n",
      "LoanOriginationDate                     object\n",
      "LoanOriginationQuarter                  object\n",
      "MemberKey                               object\n",
      "MonthlyLoanPayment                     float64\n",
      "LP_CustomerPayments                    float64\n",
      "LP_CustomerPrincipalPayments           float64\n",
      "LP_InterestandFees                     float64\n",
      "LP_ServiceFees                         float64\n",
      "LP_CollectionFees                      float64\n",
      "LP_GrossPrincipalLoss                  float64\n",
      "LP_NetPrincipalLoss                    float64\n",
      "LP_NonPrincipalRecoverypayments        float64\n",
      "PercentFunded                          float64\n",
      "Recommendations                          int64\n",
      "InvestmentFromFriendsCount               int64\n",
      "InvestmentFromFriendsAmount            float64\n",
      "Investors                                int64\n",
      "Length: 81, dtype: object\n",
      "                ListingKey  ListingNumber            ListingCreationDate  \\\n",
      "0  1021339766868145413AB3B         193129  2007-08-26 19:09:29.263000000   \n",
      "1  10273602499503308B223C1        1209647  2014-02-27 08:28:07.900000000   \n",
      "2  0EE9337825851032864889A          81716  2007-01-05 15:00:47.090000000   \n",
      "3  0EF5356002482715299901A         658116  2012-10-22 11:02:35.010000000   \n",
      "4  0F023589499656230C5E3E2         909464  2013-09-14 18:38:39.097000000   \n",
      "5  0F05359734824199381F61D        1074836  2013-12-14 08:26:37.093000000   \n",
      "6  0F0A3576754255009D63151         750899  2013-04-12 09:52:56.147000000   \n",
      "7  0F1035772717087366F9EA7         768193  2013-05-05 06:49:27.493000000   \n",
      "8  0F043596202561788EA13D5        1023355  2013-12-02 10:43:39.117000000   \n",
      "9  0F043596202561788EA13D5        1023355  2013-12-02 10:43:39.117000000   \n",
      "\n",
      "  CreditGrade  Term LoanStatus           ClosedDate  BorrowerAPR  \\\n",
      "0           C    36  Completed  2009-08-14 00:00:00      0.16516   \n",
      "1         NaN    36    Current                  NaN      0.12016   \n",
      "2          HR    36  Completed  2009-12-17 00:00:00      0.28269   \n",
      "3         NaN    36    Current                  NaN      0.12528   \n",
      "4         NaN    36    Current                  NaN      0.24614   \n",
      "5         NaN    60    Current                  NaN      0.15425   \n",
      "6         NaN    36    Current                  NaN      0.31032   \n",
      "7         NaN    36    Current                  NaN      0.23939   \n",
      "8         NaN    36    Current                  NaN      0.07620   \n",
      "9         NaN    36    Current                  NaN      0.07620   \n",
      "\n",
      "   BorrowerRate  LenderYield    ...     LP_ServiceFees  LP_CollectionFees  \\\n",
      "0        0.1580       0.1380    ...            -133.18                0.0   \n",
      "1        0.0920       0.0820    ...               0.00                0.0   \n",
      "2        0.2750       0.2400    ...             -24.20                0.0   \n",
      "3        0.0974       0.0874    ...            -108.01                0.0   \n",
      "4        0.2085       0.1985    ...             -60.27                0.0   \n",
      "5        0.1314       0.1214    ...             -25.33                0.0   \n",
      "6        0.2712       0.2612    ...             -22.95                0.0   \n",
      "7        0.2019       0.1919    ...             -69.21                0.0   \n",
      "8        0.0629       0.0529    ...             -16.77                0.0   \n",
      "9        0.0629       0.0529    ...             -16.77                0.0   \n",
      "\n",
      "   LP_GrossPrincipalLoss  LP_NetPrincipalLoss LP_NonPrincipalRecoverypayments  \\\n",
      "0                    0.0                  0.0                             0.0   \n",
      "1                    0.0                  0.0                             0.0   \n",
      "2                    0.0                  0.0                             0.0   \n",
      "3                    0.0                  0.0                             0.0   \n",
      "4                    0.0                  0.0                             0.0   \n",
      "5                    0.0                  0.0                             0.0   \n",
      "6                    0.0                  0.0                             0.0   \n",
      "7                    0.0                  0.0                             0.0   \n",
      "8                    0.0                  0.0                             0.0   \n",
      "9                    0.0                  0.0                             0.0   \n",
      "\n",
      "   PercentFunded  Recommendations InvestmentFromFriendsCount  \\\n",
      "0            1.0                0                          0   \n",
      "1            1.0                0                          0   \n",
      "2            1.0                0                          0   \n",
      "3            1.0                0                          0   \n",
      "4            1.0                0                          0   \n",
      "5            1.0                0                          0   \n",
      "6            1.0                0                          0   \n",
      "7            1.0                0                          0   \n",
      "8            1.0                0                          0   \n",
      "9            1.0                0                          0   \n",
      "\n",
      "  InvestmentFromFriendsAmount Investors  \n",
      "0                         0.0       258  \n",
      "1                         0.0         1  \n",
      "2                         0.0        41  \n",
      "3                         0.0       158  \n",
      "4                         0.0        20  \n",
      "5                         0.0         1  \n",
      "6                         0.0         1  \n",
      "7                         0.0         1  \n",
      "8                         0.0         1  \n",
      "9                         0.0         1  \n",
      "\n",
      "[10 rows x 81 columns]\n"
     ]
    }
   ],
   "source": [
    "# high  level overview of the data shape and composition\n",
    "print(loandata.shape)\n",
    "print(loandata.dtypes)\n",
    "print(loandata.head(10))"
   ]
  },
  {
   "cell_type": "code",
   "execution_count": 45,
   "metadata": {},
   "outputs": [],
   "source": [
    "# creating the categorical variables needed for the graphs\n",
    "ordinal_var_dict = {'CreditGrade': ['A','B','C','D','E'],\n",
    "                    'LoanStatus': ['Current','Completed','Chargeoff','Cancelled','Defaulted','FinalPaymentInProgress']}\n",
    "                    \n",
    "\n",
    "for var in ordinal_var_dict:\n",
    "    ordered_var = pd.api.types.CategoricalDtype(ordered = True,\n",
    "                                                categories = ordinal_var_dict[var])\n",
    "    loandata[var] = loandata[var].astype(ordered_var)"
   ]
  },
  {
   "cell_type": "code",
   "execution_count": 46,
   "metadata": {},
   "outputs": [
    {
     "data": {
      "text/html": [
       "<div>\n",
       "<style scoped>\n",
       "    .dataframe tbody tr th:only-of-type {\n",
       "        vertical-align: middle;\n",
       "    }\n",
       "\n",
       "    .dataframe tbody tr th {\n",
       "        vertical-align: top;\n",
       "    }\n",
       "\n",
       "    .dataframe thead th {\n",
       "        text-align: right;\n",
       "    }\n",
       "</style>\n",
       "<table border=\"1\" class=\"dataframe\">\n",
       "  <thead>\n",
       "    <tr style=\"text-align: right;\">\n",
       "      <th></th>\n",
       "      <th>ListingKey</th>\n",
       "      <th>ListingNumber</th>\n",
       "      <th>ListingCreationDate</th>\n",
       "      <th>CreditGrade</th>\n",
       "      <th>Term</th>\n",
       "      <th>LoanStatus</th>\n",
       "      <th>ClosedDate</th>\n",
       "      <th>BorrowerAPR</th>\n",
       "      <th>BorrowerRate</th>\n",
       "      <th>LenderYield</th>\n",
       "      <th>...</th>\n",
       "      <th>LP_ServiceFees</th>\n",
       "      <th>LP_CollectionFees</th>\n",
       "      <th>LP_GrossPrincipalLoss</th>\n",
       "      <th>LP_NetPrincipalLoss</th>\n",
       "      <th>LP_NonPrincipalRecoverypayments</th>\n",
       "      <th>PercentFunded</th>\n",
       "      <th>Recommendations</th>\n",
       "      <th>InvestmentFromFriendsCount</th>\n",
       "      <th>InvestmentFromFriendsAmount</th>\n",
       "      <th>Investors</th>\n",
       "    </tr>\n",
       "  </thead>\n",
       "  <tbody>\n",
       "    <tr>\n",
       "      <th>0</th>\n",
       "      <td>1021339766868145413AB3B</td>\n",
       "      <td>193129</td>\n",
       "      <td>2007-08-26 19:09:29.263000000</td>\n",
       "      <td>C</td>\n",
       "      <td>36</td>\n",
       "      <td>Completed</td>\n",
       "      <td>2009-08-14 00:00:00</td>\n",
       "      <td>0.16516</td>\n",
       "      <td>0.1580</td>\n",
       "      <td>0.1380</td>\n",
       "      <td>...</td>\n",
       "      <td>-133.18</td>\n",
       "      <td>0.0</td>\n",
       "      <td>0.0</td>\n",
       "      <td>0.0</td>\n",
       "      <td>0.0</td>\n",
       "      <td>1.0</td>\n",
       "      <td>0</td>\n",
       "      <td>0</td>\n",
       "      <td>0.0</td>\n",
       "      <td>258</td>\n",
       "    </tr>\n",
       "    <tr>\n",
       "      <th>1</th>\n",
       "      <td>10273602499503308B223C1</td>\n",
       "      <td>1209647</td>\n",
       "      <td>2014-02-27 08:28:07.900000000</td>\n",
       "      <td>NaN</td>\n",
       "      <td>36</td>\n",
       "      <td>Current</td>\n",
       "      <td>NaN</td>\n",
       "      <td>0.12016</td>\n",
       "      <td>0.0920</td>\n",
       "      <td>0.0820</td>\n",
       "      <td>...</td>\n",
       "      <td>0.00</td>\n",
       "      <td>0.0</td>\n",
       "      <td>0.0</td>\n",
       "      <td>0.0</td>\n",
       "      <td>0.0</td>\n",
       "      <td>1.0</td>\n",
       "      <td>0</td>\n",
       "      <td>0</td>\n",
       "      <td>0.0</td>\n",
       "      <td>1</td>\n",
       "    </tr>\n",
       "    <tr>\n",
       "      <th>2</th>\n",
       "      <td>0EE9337825851032864889A</td>\n",
       "      <td>81716</td>\n",
       "      <td>2007-01-05 15:00:47.090000000</td>\n",
       "      <td>NaN</td>\n",
       "      <td>36</td>\n",
       "      <td>Completed</td>\n",
       "      <td>2009-12-17 00:00:00</td>\n",
       "      <td>0.28269</td>\n",
       "      <td>0.2750</td>\n",
       "      <td>0.2400</td>\n",
       "      <td>...</td>\n",
       "      <td>-24.20</td>\n",
       "      <td>0.0</td>\n",
       "      <td>0.0</td>\n",
       "      <td>0.0</td>\n",
       "      <td>0.0</td>\n",
       "      <td>1.0</td>\n",
       "      <td>0</td>\n",
       "      <td>0</td>\n",
       "      <td>0.0</td>\n",
       "      <td>41</td>\n",
       "    </tr>\n",
       "    <tr>\n",
       "      <th>3</th>\n",
       "      <td>0EF5356002482715299901A</td>\n",
       "      <td>658116</td>\n",
       "      <td>2012-10-22 11:02:35.010000000</td>\n",
       "      <td>NaN</td>\n",
       "      <td>36</td>\n",
       "      <td>Current</td>\n",
       "      <td>NaN</td>\n",
       "      <td>0.12528</td>\n",
       "      <td>0.0974</td>\n",
       "      <td>0.0874</td>\n",
       "      <td>...</td>\n",
       "      <td>-108.01</td>\n",
       "      <td>0.0</td>\n",
       "      <td>0.0</td>\n",
       "      <td>0.0</td>\n",
       "      <td>0.0</td>\n",
       "      <td>1.0</td>\n",
       "      <td>0</td>\n",
       "      <td>0</td>\n",
       "      <td>0.0</td>\n",
       "      <td>158</td>\n",
       "    </tr>\n",
       "    <tr>\n",
       "      <th>4</th>\n",
       "      <td>0F023589499656230C5E3E2</td>\n",
       "      <td>909464</td>\n",
       "      <td>2013-09-14 18:38:39.097000000</td>\n",
       "      <td>NaN</td>\n",
       "      <td>36</td>\n",
       "      <td>Current</td>\n",
       "      <td>NaN</td>\n",
       "      <td>0.24614</td>\n",
       "      <td>0.2085</td>\n",
       "      <td>0.1985</td>\n",
       "      <td>...</td>\n",
       "      <td>-60.27</td>\n",
       "      <td>0.0</td>\n",
       "      <td>0.0</td>\n",
       "      <td>0.0</td>\n",
       "      <td>0.0</td>\n",
       "      <td>1.0</td>\n",
       "      <td>0</td>\n",
       "      <td>0</td>\n",
       "      <td>0.0</td>\n",
       "      <td>20</td>\n",
       "    </tr>\n",
       "    <tr>\n",
       "      <th>5</th>\n",
       "      <td>0F05359734824199381F61D</td>\n",
       "      <td>1074836</td>\n",
       "      <td>2013-12-14 08:26:37.093000000</td>\n",
       "      <td>NaN</td>\n",
       "      <td>60</td>\n",
       "      <td>Current</td>\n",
       "      <td>NaN</td>\n",
       "      <td>0.15425</td>\n",
       "      <td>0.1314</td>\n",
       "      <td>0.1214</td>\n",
       "      <td>...</td>\n",
       "      <td>-25.33</td>\n",
       "      <td>0.0</td>\n",
       "      <td>0.0</td>\n",
       "      <td>0.0</td>\n",
       "      <td>0.0</td>\n",
       "      <td>1.0</td>\n",
       "      <td>0</td>\n",
       "      <td>0</td>\n",
       "      <td>0.0</td>\n",
       "      <td>1</td>\n",
       "    </tr>\n",
       "    <tr>\n",
       "      <th>6</th>\n",
       "      <td>0F0A3576754255009D63151</td>\n",
       "      <td>750899</td>\n",
       "      <td>2013-04-12 09:52:56.147000000</td>\n",
       "      <td>NaN</td>\n",
       "      <td>36</td>\n",
       "      <td>Current</td>\n",
       "      <td>NaN</td>\n",
       "      <td>0.31032</td>\n",
       "      <td>0.2712</td>\n",
       "      <td>0.2612</td>\n",
       "      <td>...</td>\n",
       "      <td>-22.95</td>\n",
       "      <td>0.0</td>\n",
       "      <td>0.0</td>\n",
       "      <td>0.0</td>\n",
       "      <td>0.0</td>\n",
       "      <td>1.0</td>\n",
       "      <td>0</td>\n",
       "      <td>0</td>\n",
       "      <td>0.0</td>\n",
       "      <td>1</td>\n",
       "    </tr>\n",
       "    <tr>\n",
       "      <th>7</th>\n",
       "      <td>0F1035772717087366F9EA7</td>\n",
       "      <td>768193</td>\n",
       "      <td>2013-05-05 06:49:27.493000000</td>\n",
       "      <td>NaN</td>\n",
       "      <td>36</td>\n",
       "      <td>Current</td>\n",
       "      <td>NaN</td>\n",
       "      <td>0.23939</td>\n",
       "      <td>0.2019</td>\n",
       "      <td>0.1919</td>\n",
       "      <td>...</td>\n",
       "      <td>-69.21</td>\n",
       "      <td>0.0</td>\n",
       "      <td>0.0</td>\n",
       "      <td>0.0</td>\n",
       "      <td>0.0</td>\n",
       "      <td>1.0</td>\n",
       "      <td>0</td>\n",
       "      <td>0</td>\n",
       "      <td>0.0</td>\n",
       "      <td>1</td>\n",
       "    </tr>\n",
       "    <tr>\n",
       "      <th>8</th>\n",
       "      <td>0F043596202561788EA13D5</td>\n",
       "      <td>1023355</td>\n",
       "      <td>2013-12-02 10:43:39.117000000</td>\n",
       "      <td>NaN</td>\n",
       "      <td>36</td>\n",
       "      <td>Current</td>\n",
       "      <td>NaN</td>\n",
       "      <td>0.07620</td>\n",
       "      <td>0.0629</td>\n",
       "      <td>0.0529</td>\n",
       "      <td>...</td>\n",
       "      <td>-16.77</td>\n",
       "      <td>0.0</td>\n",
       "      <td>0.0</td>\n",
       "      <td>0.0</td>\n",
       "      <td>0.0</td>\n",
       "      <td>1.0</td>\n",
       "      <td>0</td>\n",
       "      <td>0</td>\n",
       "      <td>0.0</td>\n",
       "      <td>1</td>\n",
       "    </tr>\n",
       "    <tr>\n",
       "      <th>9</th>\n",
       "      <td>0F043596202561788EA13D5</td>\n",
       "      <td>1023355</td>\n",
       "      <td>2013-12-02 10:43:39.117000000</td>\n",
       "      <td>NaN</td>\n",
       "      <td>36</td>\n",
       "      <td>Current</td>\n",
       "      <td>NaN</td>\n",
       "      <td>0.07620</td>\n",
       "      <td>0.0629</td>\n",
       "      <td>0.0529</td>\n",
       "      <td>...</td>\n",
       "      <td>-16.77</td>\n",
       "      <td>0.0</td>\n",
       "      <td>0.0</td>\n",
       "      <td>0.0</td>\n",
       "      <td>0.0</td>\n",
       "      <td>1.0</td>\n",
       "      <td>0</td>\n",
       "      <td>0</td>\n",
       "      <td>0.0</td>\n",
       "      <td>1</td>\n",
       "    </tr>\n",
       "  </tbody>\n",
       "</table>\n",
       "<p>10 rows × 81 columns</p>\n",
       "</div>"
      ],
      "text/plain": [
       "                ListingKey  ListingNumber            ListingCreationDate  \\\n",
       "0  1021339766868145413AB3B         193129  2007-08-26 19:09:29.263000000   \n",
       "1  10273602499503308B223C1        1209647  2014-02-27 08:28:07.900000000   \n",
       "2  0EE9337825851032864889A          81716  2007-01-05 15:00:47.090000000   \n",
       "3  0EF5356002482715299901A         658116  2012-10-22 11:02:35.010000000   \n",
       "4  0F023589499656230C5E3E2         909464  2013-09-14 18:38:39.097000000   \n",
       "5  0F05359734824199381F61D        1074836  2013-12-14 08:26:37.093000000   \n",
       "6  0F0A3576754255009D63151         750899  2013-04-12 09:52:56.147000000   \n",
       "7  0F1035772717087366F9EA7         768193  2013-05-05 06:49:27.493000000   \n",
       "8  0F043596202561788EA13D5        1023355  2013-12-02 10:43:39.117000000   \n",
       "9  0F043596202561788EA13D5        1023355  2013-12-02 10:43:39.117000000   \n",
       "\n",
       "  CreditGrade  Term LoanStatus           ClosedDate  BorrowerAPR  \\\n",
       "0           C    36  Completed  2009-08-14 00:00:00      0.16516   \n",
       "1         NaN    36    Current                  NaN      0.12016   \n",
       "2         NaN    36  Completed  2009-12-17 00:00:00      0.28269   \n",
       "3         NaN    36    Current                  NaN      0.12528   \n",
       "4         NaN    36    Current                  NaN      0.24614   \n",
       "5         NaN    60    Current                  NaN      0.15425   \n",
       "6         NaN    36    Current                  NaN      0.31032   \n",
       "7         NaN    36    Current                  NaN      0.23939   \n",
       "8         NaN    36    Current                  NaN      0.07620   \n",
       "9         NaN    36    Current                  NaN      0.07620   \n",
       "\n",
       "   BorrowerRate  LenderYield    ...     LP_ServiceFees  LP_CollectionFees  \\\n",
       "0        0.1580       0.1380    ...            -133.18                0.0   \n",
       "1        0.0920       0.0820    ...               0.00                0.0   \n",
       "2        0.2750       0.2400    ...             -24.20                0.0   \n",
       "3        0.0974       0.0874    ...            -108.01                0.0   \n",
       "4        0.2085       0.1985    ...             -60.27                0.0   \n",
       "5        0.1314       0.1214    ...             -25.33                0.0   \n",
       "6        0.2712       0.2612    ...             -22.95                0.0   \n",
       "7        0.2019       0.1919    ...             -69.21                0.0   \n",
       "8        0.0629       0.0529    ...             -16.77                0.0   \n",
       "9        0.0629       0.0529    ...             -16.77                0.0   \n",
       "\n",
       "   LP_GrossPrincipalLoss  LP_NetPrincipalLoss LP_NonPrincipalRecoverypayments  \\\n",
       "0                    0.0                  0.0                             0.0   \n",
       "1                    0.0                  0.0                             0.0   \n",
       "2                    0.0                  0.0                             0.0   \n",
       "3                    0.0                  0.0                             0.0   \n",
       "4                    0.0                  0.0                             0.0   \n",
       "5                    0.0                  0.0                             0.0   \n",
       "6                    0.0                  0.0                             0.0   \n",
       "7                    0.0                  0.0                             0.0   \n",
       "8                    0.0                  0.0                             0.0   \n",
       "9                    0.0                  0.0                             0.0   \n",
       "\n",
       "   PercentFunded  Recommendations InvestmentFromFriendsCount  \\\n",
       "0            1.0                0                          0   \n",
       "1            1.0                0                          0   \n",
       "2            1.0                0                          0   \n",
       "3            1.0                0                          0   \n",
       "4            1.0                0                          0   \n",
       "5            1.0                0                          0   \n",
       "6            1.0                0                          0   \n",
       "7            1.0                0                          0   \n",
       "8            1.0                0                          0   \n",
       "9            1.0                0                          0   \n",
       "\n",
       "  InvestmentFromFriendsAmount Investors  \n",
       "0                         0.0       258  \n",
       "1                         0.0         1  \n",
       "2                         0.0        41  \n",
       "3                         0.0       158  \n",
       "4                         0.0        20  \n",
       "5                         0.0         1  \n",
       "6                         0.0         1  \n",
       "7                         0.0         1  \n",
       "8                         0.0         1  \n",
       "9                         0.0         1  \n",
       "\n",
       "[10 rows x 81 columns]"
      ]
     },
     "execution_count": 46,
     "metadata": {},
     "output_type": "execute_result"
    }
   ],
   "source": [
    "#Looking at what the data looks like\n",
    "loandata.head(10)"
   ]
  },
  {
   "cell_type": "code",
   "execution_count": 47,
   "metadata": {},
   "outputs": [
    {
     "name": "stdout",
     "output_type": "stream",
     "text": [
      "       ListingNumber           Term    BorrowerAPR   BorrowerRate  \\\n",
      "count   1.139370e+05  113937.000000  113912.000000  113937.000000   \n",
      "mean    6.278857e+05      40.830248       0.218828       0.192764   \n",
      "std     3.280762e+05      10.436212       0.080364       0.074818   \n",
      "min     4.000000e+00      12.000000       0.006530       0.000000   \n",
      "25%     4.009190e+05      36.000000       0.156290       0.134000   \n",
      "50%     6.005540e+05      36.000000       0.209760       0.184000   \n",
      "75%     8.926340e+05      36.000000       0.283810       0.250000   \n",
      "max     1.255725e+06      60.000000       0.512290       0.497500   \n",
      "\n",
      "         LenderYield  EstimatedEffectiveYield  EstimatedLoss  EstimatedReturn  \\\n",
      "count  113937.000000             84853.000000   84853.000000     84853.000000   \n",
      "mean        0.182701                 0.168661       0.080306         0.096068   \n",
      "std         0.074516                 0.068467       0.046764         0.030403   \n",
      "min        -0.010000                -0.182700       0.004900        -0.182700   \n",
      "25%         0.124200                 0.115670       0.042400         0.074080   \n",
      "50%         0.173000                 0.161500       0.072400         0.091700   \n",
      "75%         0.240000                 0.224300       0.112000         0.116600   \n",
      "max         0.492500                 0.319900       0.366000         0.283700   \n",
      "\n",
      "       ProsperRating (numeric)  ProsperScore      ...        LP_ServiceFees  \\\n",
      "count             84853.000000  84853.000000      ...         113937.000000   \n",
      "mean                  4.072243      5.950067      ...            -54.725641   \n",
      "std                   1.673227      2.376501      ...             60.675425   \n",
      "min                   1.000000      1.000000      ...           -664.870000   \n",
      "25%                   3.000000      4.000000      ...            -73.180000   \n",
      "50%                   4.000000      6.000000      ...            -34.440000   \n",
      "75%                   5.000000      8.000000      ...            -13.920000   \n",
      "max                   7.000000     11.000000      ...             32.060000   \n",
      "\n",
      "       LP_CollectionFees  LP_GrossPrincipalLoss  LP_NetPrincipalLoss  \\\n",
      "count      113937.000000          113937.000000        113937.000000   \n",
      "mean          -14.242698             700.446342           681.420499   \n",
      "std           109.232758            2388.513831          2357.167068   \n",
      "min         -9274.750000             -94.200000          -954.550000   \n",
      "25%             0.000000               0.000000             0.000000   \n",
      "50%             0.000000               0.000000             0.000000   \n",
      "75%             0.000000               0.000000             0.000000   \n",
      "max             0.000000           25000.000000         25000.000000   \n",
      "\n",
      "       LP_NonPrincipalRecoverypayments  PercentFunded  Recommendations  \\\n",
      "count                    113937.000000  113937.000000    113937.000000   \n",
      "mean                         25.142686       0.998584         0.048027   \n",
      "std                         275.657937       0.017919         0.332353   \n",
      "min                           0.000000       0.700000         0.000000   \n",
      "25%                           0.000000       1.000000         0.000000   \n",
      "50%                           0.000000       1.000000         0.000000   \n",
      "75%                           0.000000       1.000000         0.000000   \n",
      "max                       21117.900000       1.012500        39.000000   \n",
      "\n",
      "       InvestmentFromFriendsCount  InvestmentFromFriendsAmount      Investors  \n",
      "count               113937.000000                113937.000000  113937.000000  \n",
      "mean                     0.023460                    16.550751      80.475228  \n",
      "std                      0.232412                   294.545422     103.239020  \n",
      "min                      0.000000                     0.000000       1.000000  \n",
      "25%                      0.000000                     0.000000       2.000000  \n",
      "50%                      0.000000                     0.000000      44.000000  \n",
      "75%                      0.000000                     0.000000     115.000000  \n",
      "max                     33.000000                 25000.000000    1189.000000  \n",
      "\n",
      "[8 rows x 61 columns]\n"
     ]
    }
   ],
   "source": [
    "#descriptive statistics for numeric variables\n",
    "print(loandata.describe())"
   ]
  },
  {
   "cell_type": "markdown",
   "metadata": {},
   "source": [
    "### What is the structure of your dataset?\n",
    "\n",
    "> There is 113938 loans in this data set. There are 20 features this includes (Listing Number, Term, Borrower APR, Borrower Rate, Lender Yield, Estimated Effective Yield, Estimated Loss, Estimated Return, Prosper Rating (numeric), proper score, Service Fees, Collection Fees, Gross Principal Loss, Net Principal Loss, Non Principal Recovery payments, percent Funded, Recommendations, Investment From Friends Count, Investment From Friends Amount, Investors)\n",
    "\n",
    "> All of the values are numeric.\n",
    "\n",
    "### What is/are the main feature(s) of interest in your dataset?\n",
    "\n",
    "> I am interested in the estimated loss vs the estimated return.\n",
    "\n",
    "### What features in the dataset do you think will help support your investigation into your feature(s) of interest?\n",
    "\n",
    "> I expect that borrowerAPR and borrowRate will have the biggest effect."
   ]
  },
  {
   "cell_type": "markdown",
   "metadata": {},
   "source": [
    "## Univariate Exploration\n",
    "\n",
    "> In this section, investigate distributions of individual variables. If\n",
    "you see unusual points or outliers, take a deeper look to clean things up\n",
    "and prepare yourself to look at relationships between variables.\n",
    "\n",
    "\n",
    "> **Rubric Tip**: The project (Parts I alone) should have at least 15 visualizations distributed over univariate, bivariate, and multivariate plots to explore many relationships in the data set.  Use reasoning to justify the flow of the exploration.\n",
    "\n",
    "\n",
    "\n",
    ">**Rubric Tip**: Use the \"Question-Visualization-Observations\" framework  throughout the exploration. This framework involves **asking a question from the data, creating a visualization to find answers, and then recording observations after each visualisation.** \n"
   ]
  },
  {
   "cell_type": "markdown",
   "metadata": {},
   "source": [
    "### How many of each type of loanstatus are there?\n"
   ]
  },
  {
   "cell_type": "code",
   "execution_count": 48,
   "metadata": {},
   "outputs": [
    {
     "data": {
      "image/png": "[encoded data removed]",
      "text/plain": [
       "<matplotlib.figure.Figure at 0x7fcbf5f2e940>"
      ]
     },
     "metadata": {
      "needs_background": "light"
     },
     "output_type": "display_data"
    }
   ],
   "source": [
    "\n",
    "\n",
    "loandata['LoanStatus'].value_counts().sort_index().plot.bar(edgecolor='black',figsize=[14,6],rot=0,width=0.8);"
   ]
  },
  {
   "cell_type": "markdown",
   "metadata": {},
   "source": [
    "### Observation\n",
    "#### it looks like the top three categories are completed, current, and final payment in progress."
   ]
  },
  {
   "cell_type": "markdown",
   "metadata": {},
   "source": [
    "### What is the distribution of estimated Loss\n"
   ]
  },
  {
   "cell_type": "code",
   "execution_count": 49,
   "metadata": {},
   "outputs": [
    {
     "data": {
      "image/png": "[encoded data removed]",
      "text/plain": [
       "<matplotlib.figure.Figure at 0x7fcbebf2f748>"
      ]
     },
     "metadata": {
      "needs_background": "light"
     },
     "output_type": "display_data"
    }
   ],
   "source": [
    "\n",
    "# drop na\n",
    "data=loandata.dropna(subset=['EstimatedLoss']).copy()\n",
    "\n",
    "# start with a standard-scaled plot\n",
    "binsize = 500\n",
    "bins = np.arange (0, data['EstimatedLoss'].max ()+binsize, binsize)\n",
    "plt.figure(figsize= [8,5])\n",
    "plt.hist(data=data, x='EstimatedLoss', edgecolor='black') \n",
    "plt.xlabel ('Estimated Loss') \n",
    "plt.show ()"
   ]
  },
  {
   "cell_type": "markdown",
   "metadata": {},
   "source": [
    "### Observation\n",
    "\n",
    "#### The highest count of estimated loss is between 0.05 to 0.10"
   ]
  },
  {
   "cell_type": "markdown",
   "metadata": {},
   "source": [
    "### What is the distribution of estimated return\n"
   ]
  },
  {
   "cell_type": "code",
   "execution_count": 50,
   "metadata": {},
   "outputs": [
    {
     "data": {
      "image/png": "[encoded data removed]",
      "text/plain": [
       "<matplotlib.figure.Figure at 0x7fcbf83120f0>"
      ]
     },
     "metadata": {
      "needs_background": "light"
     },
     "output_type": "display_data"
    }
   ],
   "source": [
    "#plot estimated return EstimatedReturn\n",
    "\n",
    "rdata=loandata.dropna(subset=['EstimatedReturn']).copy()\n",
    "\n",
    "# start with a standard-scaled plot\n",
    "binsize = 500\n",
    "bins = np.arange (0, rdata['EstimatedReturn'].max ()+binsize, binsize)\n",
    "plt.figure(figsize= [8,5])\n",
    "plt.hist(data=rdata, x='EstimatedReturn', edgecolor='black') \n",
    "plt.xlabel ('Estimated Return') \n",
    "plt.show ()"
   ]
  },
  {
   "cell_type": "markdown",
   "metadata": {},
   "source": [
    "### Observation\n",
    "#### The estimated return highest is between 0.05 and 0.10 as well"
   ]
  },
  {
   "cell_type": "markdown",
   "metadata": {},
   "source": [
    "### What is the distribution of borrower rate"
   ]
  },
  {
   "cell_type": "code",
   "execution_count": 51,
   "metadata": {},
   "outputs": [
    {
     "data": {
      "image/png": "[encoded data removed]",
      "text/plain": [
       "<matplotlib.figure.Figure at 0x7fcbebe44320>"
      ]
     },
     "metadata": {
      "needs_background": "light"
     },
     "output_type": "display_data"
    }
   ],
   "source": [
    "# plotting the borrower rate BorrowerRate\n",
    "\n",
    "bdata=loandata.dropna(subset=['BorrowerRate']).copy()\n",
    "\n",
    "# start with a standard-scaled plot\n",
    "binsize = 500\n",
    "bins = np.arange (0, bdata['BorrowerRate'].max ()+binsize, binsize)\n",
    "plt.figure(figsize= [8,5])\n",
    "plt.hist(data=bdata, x='BorrowerRate', edgecolor='black') \n",
    "plt.xlabel ('Borrower Rate') \n",
    "plt.show ()"
   ]
  },
  {
   "cell_type": "markdown",
   "metadata": {},
   "source": [
    "### Observation\n",
    "#### the highest borrower rate is between 0.15 and 0.2"
   ]
  },
  {
   "cell_type": "markdown",
   "metadata": {},
   "source": [
    "### What is the distrbution of Borrower APR"
   ]
  },
  {
   "cell_type": "code",
   "execution_count": 52,
   "metadata": {},
   "outputs": [
    {
     "data": {
      "image/png": "[encoded data removed]",
      "text/plain": [
       "<matplotlib.figure.Figure at 0x7fcbebcb9208>"
      ]
     },
     "metadata": {
      "needs_background": "light"
     },
     "output_type": "display_data"
    }
   ],
   "source": [
    "#plot the borrowere APR BorrowerAPR\n",
    "\n",
    "adata=loandata.dropna(subset=['BorrowerAPR']).copy()\n",
    "\n",
    "# start with a standard-scaled plot\n",
    "binsize = 500\n",
    "bins = np.arange (0, adata['BorrowerAPR'].max ()+binsize, binsize)\n",
    "plt.figure(figsize= [8,5])\n",
    "plt.hist(data=adata, x='BorrowerAPR', edgecolor='black') \n",
    "plt.xlabel ('Borrower APR') \n",
    "plt.show ()"
   ]
  },
  {
   "cell_type": "markdown",
   "metadata": {},
   "source": [
    "### the highest borrower APR is also between 0.15 and 0.2"
   ]
  },
  {
   "cell_type": "markdown",
   "metadata": {},
   "source": [
    "### What do all of these plots look like together"
   ]
  },
  {
   "cell_type": "code",
   "execution_count": 53,
   "metadata": {},
   "outputs": [
    {
     "data": {
      "image/png": "[encoded data removed]",
      "text/plain": [
       "<matplotlib.figure.Figure at 0x7fcbebef2a90>"
      ]
     },
     "metadata": {
      "needs_background": "light"
     },
     "output_type": "display_data"
    }
   ],
   "source": [
    "\n",
    "# let's plot all four together to get an idea of each ordinal variable's distribution\n",
    "\n",
    "fig, axes = plt.subplots(1, 4, figsize = [14,6])\n",
    "data.hist('EstimatedLoss', ax=axes[0])\n",
    "data.hist('EstimatedReturn', ax=axes[1])\n",
    "data.hist('BorrowerRate', ax=axes[2])\n",
    "data.hist('BorrowerAPR', ax=axes[3])\n",
    "plt.show()"
   ]
  },
  {
   "cell_type": "markdown",
   "metadata": {},
   "source": [
    "#### estimated loss is skewed right and esetimated return is skewed left while borrower rate and apr are evenly distributed. "
   ]
  },
  {
   "cell_type": "code",
   "execution_count": 54,
   "metadata": {},
   "outputs": [
    {
     "name": "stdout",
     "output_type": "stream",
     "text": [
      "26687\n",
      "                     ListingKey  ListingNumber            ListingCreationDate  \\\n",
      "1       10273602499503308B223C1        1209647  2014-02-27 08:28:07.900000000   \n",
      "3       0EF5356002482715299901A         658116  2012-10-22 11:02:35.010000000   \n",
      "5       0F05359734824199381F61D        1074836  2013-12-14 08:26:37.093000000   \n",
      "8       0F043596202561788EA13D5        1023355  2013-12-02 10:43:39.117000000   \n",
      "9       0F043596202561788EA13D5        1023355  2013-12-02 10:43:39.117000000   \n",
      "13      0F1C3583260311305D68F87         840820  2013-07-15 16:28:28.087000000   \n",
      "14      0F353575943675863D1AFC0         757359  2013-04-19 11:17:41.700000000   \n",
      "18      0FF2357105361877390B58D         716058  2013-02-20 03:48:37.470000000   \n",
      "20      101635959323992333B3C70        1011916  2013-11-22 11:35:02.987000000   \n",
      "27      0F5034867864161084F3789         463083  2010-06-16 16:23:44.533000000   \n",
      "29      0F563597161095613517437        1051243  2013-12-17 09:18:33.220000000   \n",
      "30      0F57353904771934596FE9F         555213  2012-01-30 17:59:17.200000000   \n",
      "32      0F683599787642317AE85C5        1132356  2014-01-10 11:19:14.947000000   \n",
      "33      0F6B3496936961316AEE1B2         478891  2010-10-10 13:23:30.757000000   \n",
      "38      109A35861259973172F6548         869272  2013-08-13 16:11:17.173000000   \n",
      "45      0F843574249889932A8662E         741867  2013-04-01 05:20:57.110000000   \n",
      "47      0F8B3577039176552F6CC26         765126  2013-05-01 08:18:59.183000000   \n",
      "48      0F923587782964897A58B1B         875992  2013-08-20 19:25:08.830000000   \n",
      "49      0F9D3585166658459B9AC30         860928  2013-08-05 17:38:57.243000000   \n",
      "52      0FAA357428986754861A3E6         733454  2013-03-20 14:08:52.343000000   \n",
      "54      0FBC3556025226720BE6DD4         629058  2012-08-26 09:43:38.643000000   \n",
      "55      0FC13592826344497AFB874         992574  2013-10-21 11:24:44.110000000   \n",
      "58      0FF735841515827770331DF         847219  2013-07-22 08:03:33.437000000   \n",
      "61      10223596029543318E1A9FB        1053659  2013-12-05 11:15:32.567000000   \n",
      "69      0F37360159310530849DA23        1162592  2014-01-25 12:07:54.537000000   \n",
      "77      0DFD35069860903300C7973         494156  2011-02-17 05:52:07.960000000   \n",
      "81      105B35621274435224BDC69         671421  2012-11-15 15:28:17.097000000   \n",
      "95      0FFC3601335963354A35791        1166429  2014-01-26 22:21:42.310000000   \n",
      "98      0F653600910253363BBD659        1164962  2014-01-26 10:13:04.513000000   \n",
      "99      0F663588983215130695EB3         886064  2013-09-03 08:45:13.893000000   \n",
      "...                         ...            ...                            ...   \n",
      "113781  C6DF36000953088984E59E0        1171287  2014-01-30 10:33:37.413000000   \n",
      "113784  CF4C3593704223935C8DEF5        1021056  2013-11-05 20:51:45.540000000   \n",
      "113789  CF7D360314586070746CBB7        1187275  2014-03-01 07:47:47.600000000   \n",
      "113790  CF833598215700502CA6121        1091218  2014-01-07 12:33:35.973000000   \n",
      "113796  E457360161315253186457B        1180527  2014-02-02 10:15:52.320000000   \n",
      "113824  CFAA36019536746196211FA        1184645  2014-02-08 17:55:58.327000000   \n",
      "113837  DEE9348619889860037AA80         462836  2010-06-17 04:45:48.920000000   \n",
      "113842  DF0D3497278986674B6AA3E         481540  2010-10-25 18:14:30.287000000   \n",
      "113844  DF2235930095582149BB088         996813  2013-10-22 15:02:17.593000000   \n",
      "113850  FFF935959526925194007C0        1062930  2013-12-02 09:35:13.167000000   \n",
      "113855  DF45360176809914475660A        1211163  2014-02-15 18:43:57.650000000   \n",
      "113860  C7293510325393308F24E59         497850  2011-03-14 12:10:04.630000000   \n",
      "113863  C74335893905744205D4056         928893  2013-09-26 12:53:34.633000000   \n",
      "113866  C9563467992330262C23724         433774  2009-11-16 19:11:53.663000000   \n",
      "113877  E2B23514231053549EB0503         503829  2011-04-26 05:18:21.440000000   \n",
      "113882  E2CD34776314984817D9869         448077  2010-02-26 13:02:11.150000000   \n",
      "113886  E2E83591155138642787408         939046  2013-10-06 01:25:25.037000000   \n",
      "113888  E3003604647943060EAC1F2        1214654  2014-02-27 17:56:48.587000000   \n",
      "113892  E3113599386032713DCFDE2        1150203  2014-01-20 08:20:38.413000000   \n",
      "113893  E31A36014701412354CD6A2        1170177  2014-01-30 08:18:26.497000000   \n",
      "113894  E32734699821101105178D8         438537  2009-12-15 18:50:46.193000000   \n",
      "113899  E6BB34788205132176FCDD9         449436  2010-03-08 20:48:58.387000000   \n",
      "113900  E6BC360425933005095E619        1214162  2014-02-27 16:37:37.953000000   \n",
      "113901  E6C0359472136859318BE87        1011976  2013-11-22 11:43:49.750000000   \n",
      "113912  C98A3597264633447D66DF9        1083677  2013-12-16 16:36:00.990000000   \n",
      "113913  D2013482695428940FAD9E3         455673  2010-04-25 15:13:27.963000000   \n",
      "113924  E340356181565702714DBCE         657862  2012-10-20 19:15:52.670000000   \n",
      "113931  E36F36005339663245C20F8        1141292  2014-01-16 20:13:08.040000000   \n",
      "113933  E6DB353036033497292EE43         537216  2011-11-03 20:42:55.333000000   \n",
      "113936  E6ED3600409833199F711B7        1140093  2014-01-15 09:27:37.657000000   \n",
      "\n",
      "       CreditGrade  Term              LoanStatus           ClosedDate  \\\n",
      "1              NaN    36                 Current                  NaN   \n",
      "3              NaN    36                 Current                  NaN   \n",
      "5              NaN    60                 Current                  NaN   \n",
      "8              NaN    36                 Current                  NaN   \n",
      "9              NaN    36                 Current                  NaN   \n",
      "13             NaN    36                 Current                  NaN   \n",
      "14             NaN    60                 Current                  NaN   \n",
      "18             NaN    36                 Current                  NaN   \n",
      "20             NaN    36                 Current                  NaN   \n",
      "27             NaN    36               Completed  2013-07-03 00:00:00   \n",
      "29             NaN    36                 Current                  NaN   \n",
      "30             NaN    36               Completed  2012-12-19 00:00:00   \n",
      "32             NaN    36                 Current                  NaN   \n",
      "33             NaN    36               Completed  2012-12-21 00:00:00   \n",
      "38             NaN    36                 Current                  NaN   \n",
      "45             NaN    60                 Current                  NaN   \n",
      "47             NaN    36                 Current                  NaN   \n",
      "48             NaN    60                 Current                  NaN   \n",
      "49             NaN    60                 Current                  NaN   \n",
      "52             NaN    36                 Current                  NaN   \n",
      "54             NaN    60                 Current                  NaN   \n",
      "55             NaN    36                 Current                  NaN   \n",
      "58             NaN    60                 Current                  NaN   \n",
      "61             NaN    36                 Current                  NaN   \n",
      "69             NaN    60                 Current                  NaN   \n",
      "77             NaN    36               Completed  2012-02-03 00:00:00   \n",
      "81             NaN    60                 Current                  NaN   \n",
      "95             NaN    36                 Current                  NaN   \n",
      "98             NaN    36                 Current                  NaN   \n",
      "99             NaN    60                 Current                  NaN   \n",
      "...            ...   ...                     ...                  ...   \n",
      "113781         NaN    60                 Current                  NaN   \n",
      "113784         NaN    36                 Current                  NaN   \n",
      "113789         NaN    36                 Current                  NaN   \n",
      "113790         NaN    36                 Current                  NaN   \n",
      "113796         NaN    36                 Current                  NaN   \n",
      "113824         NaN    36                 Current                  NaN   \n",
      "113837         NaN    36               Completed  2013-06-25 00:00:00   \n",
      "113842         NaN    36               Completed  2012-04-13 00:00:00   \n",
      "113844         NaN    36                 Current                  NaN   \n",
      "113850         NaN    36                 Current                  NaN   \n",
      "113855         NaN    36                 Current                  NaN   \n",
      "113860         NaN    36                 Current                  NaN   \n",
      "113863         NaN    36                 Current                  NaN   \n",
      "113866         NaN    36               Completed  2010-01-12 00:00:00   \n",
      "113877         NaN    36                 Current                  NaN   \n",
      "113882         NaN    36               Completed  2012-09-10 00:00:00   \n",
      "113886         NaN    36                 Current                  NaN   \n",
      "113888         NaN    36                 Current                  NaN   \n",
      "113892         NaN    36                 Current                  NaN   \n",
      "113893         NaN    36                 Current                  NaN   \n",
      "113894         NaN    36               Completed  2010-02-26 00:00:00   \n",
      "113899         NaN    36               Completed  2013-03-18 00:00:00   \n",
      "113900         NaN    36                 Current                  NaN   \n",
      "113901         NaN    60                 Current                  NaN   \n",
      "113912         NaN    36                 Current                  NaN   \n",
      "113913         NaN    36               Completed  2013-05-05 00:00:00   \n",
      "113924         NaN    60                 Current                  NaN   \n",
      "113931         NaN    60                 Current                  NaN   \n",
      "113933         NaN    36  FinalPaymentInProgress                  NaN   \n",
      "113936         NaN    36                 Current                  NaN   \n",
      "\n",
      "        BorrowerAPR  BorrowerRate  LenderYield    ...     LP_ServiceFees  \\\n",
      "1           0.12016        0.0920       0.0820    ...               0.00   \n",
      "3           0.12528        0.0974       0.0874    ...            -108.01   \n",
      "5           0.15425        0.1314       0.1214    ...             -25.33   \n",
      "8           0.07620        0.0629       0.0529    ...             -16.77   \n",
      "9           0.07620        0.0629       0.0529    ...             -16.77   \n",
      "13          0.13138        0.1034       0.0934    ...             -46.42   \n",
      "14          0.11695        0.0949       0.0849    ...            -138.07   \n",
      "18          0.12528        0.0974       0.0874    ...            -121.47   \n",
      "20          0.16732        0.1314       0.1214    ...             -34.11   \n",
      "27          0.11296        0.0920       0.0820    ...             -64.62   \n",
      "29          0.15223        0.1239       0.1139    ...             -29.73   \n",
      "30          0.12782        0.0999       0.0899    ...             -68.22   \n",
      "32          0.16324        0.1274       0.1174    ...             -21.23   \n",
      "33          0.08191        0.0785       0.0685    ...            -196.82   \n",
      "38          0.08930        0.0759       0.0659    ...             -33.08   \n",
      "45          0.13227        0.1099       0.0999    ...            -197.42   \n",
      "47          0.15833        0.1299       0.1199    ...             -99.94   \n",
      "48          0.17522        0.1519       0.1419    ...             -62.49   \n",
      "49          0.11695        0.0949       0.0849    ...            -121.87   \n",
      "52          0.14348        0.1153       0.1053    ...             -56.88   \n",
      "54          0.20931        0.1852       0.1752    ...            -244.02   \n",
      "55          0.17601        0.1399       0.1299    ...             -31.78   \n",
      "58          0.17522        0.1519       0.1419    ...             -45.52   \n",
      "61          0.16324        0.1274       0.1174    ...              -3.36   \n",
      "69          0.13636        0.1139       0.1039    ...              -7.15   \n",
      "77          0.13109        0.1099       0.0999    ...             -46.07   \n",
      "81          0.12216        0.1000       0.0900    ...            -282.50   \n",
      "95          0.12691        0.0990       0.0890    ...             -15.34   \n",
      "98          0.17151        0.1355       0.1255    ...              -3.40   \n",
      "99          0.10878        0.0869       0.0769    ...             -40.78   \n",
      "...             ...           ...          ...    ...                ...   \n",
      "113781      0.15425        0.1314       0.1214    ...              -7.67   \n",
      "113784      0.12691        0.0990       0.0890    ...             -36.89   \n",
      "113789      0.14446        0.1159       0.1059    ...               0.00   \n",
      "113790      0.12081        0.0930       0.0830    ...              -9.27   \n",
      "113796      0.12081        0.0930       0.0830    ...               0.00   \n",
      "113824      0.11599        0.0879       0.0779    ...               0.00   \n",
      "113837      0.17170        0.1500       0.1400    ...             -59.61   \n",
      "113842      0.35898        0.2975       0.2875    ...             -12.06   \n",
      "113844      0.15833        0.1299       0.1199    ...             -47.64   \n",
      "113850      0.14206        0.1139       0.1039    ...              -9.23   \n",
      "113855      0.14751        0.1189       0.1089    ...               0.00   \n",
      "113860      0.13109        0.1099       0.0999    ...            -116.43   \n",
      "113863      0.12691        0.0990       0.0890    ...             -15.99   \n",
      "113866      0.20504        0.1829       0.1729    ...              -4.66   \n",
      "113877      0.12511        0.1040       0.0940    ...            -161.36   \n",
      "113882      0.07439        0.0710       0.0610    ...             -23.10   \n",
      "113886      0.17601        0.1399       0.1299    ...             -32.52   \n",
      "113888      0.14853        0.1199       0.1099    ...               0.00   \n",
      "113892      0.15223        0.1239       0.1139    ...              -6.58   \n",
      "113893      0.12081        0.0930       0.0830    ...              -9.21   \n",
      "113894      0.07339        0.0700       0.0600    ...              -1.29   \n",
      "113899      0.11296        0.0920       0.0820    ...             -79.12   \n",
      "113900      0.16678        0.1305       0.1205    ...               0.00   \n",
      "113901      0.15016        0.1274       0.1174    ...             -49.80   \n",
      "113912      0.06726        0.0605       0.0505    ...              -7.15   \n",
      "113913      0.12410        0.1030       0.0930    ...            -129.82   \n",
      "113924      0.17317        0.1499       0.1399    ...             -60.83   \n",
      "113931      0.15016        0.1274       0.1174    ...             -21.23   \n",
      "113933      0.13220        0.1110       0.1010    ...             -30.05   \n",
      "113936      0.13189        0.1039       0.0939    ...              -1.70   \n",
      "\n",
      "        LP_CollectionFees  LP_GrossPrincipalLoss  LP_NetPrincipalLoss  \\\n",
      "1                     0.0                    0.0                  0.0   \n",
      "3                     0.0                    0.0                  0.0   \n",
      "5                     0.0                    0.0                  0.0   \n",
      "8                     0.0                    0.0                  0.0   \n",
      "9                     0.0                    0.0                  0.0   \n",
      "13                    0.0                    0.0                  0.0   \n",
      "14                    0.0                    0.0                  0.0   \n",
      "18                    0.0                    0.0                  0.0   \n",
      "20                    0.0                    0.0                  0.0   \n",
      "27                    0.0                    0.0                  0.0   \n",
      "29                    0.0                    0.0                  0.0   \n",
      "30                    0.0                    0.0                  0.0   \n",
      "32                    0.0                    0.0                  0.0   \n",
      "33                    0.0                    0.0                  0.0   \n",
      "38                    0.0                    0.0                  0.0   \n",
      "45                    0.0                    0.0                  0.0   \n",
      "47                    0.0                    0.0                  0.0   \n",
      "48                    0.0                    0.0                  0.0   \n",
      "49                    0.0                    0.0                  0.0   \n",
      "52                    0.0                    0.0                  0.0   \n",
      "54                    0.0                    0.0                  0.0   \n",
      "55                    0.0                    0.0                  0.0   \n",
      "58                    0.0                    0.0                  0.0   \n",
      "61                    0.0                    0.0                  0.0   \n",
      "69                    0.0                    0.0                  0.0   \n",
      "77                    0.0                    0.0                  0.0   \n",
      "81                    0.0                    0.0                  0.0   \n",
      "95                    0.0                    0.0                  0.0   \n",
      "98                    0.0                    0.0                  0.0   \n",
      "99                    0.0                    0.0                  0.0   \n",
      "...                   ...                    ...                  ...   \n",
      "113781                0.0                    0.0                  0.0   \n",
      "113784                0.0                    0.0                  0.0   \n",
      "113789                0.0                    0.0                  0.0   \n",
      "113790                0.0                    0.0                  0.0   \n",
      "113796                0.0                    0.0                  0.0   \n",
      "113824                0.0                    0.0                  0.0   \n",
      "113837                0.0                    0.0                  0.0   \n",
      "113842                0.0                    0.0                  0.0   \n",
      "113844                0.0                    0.0                  0.0   \n",
      "113850                0.0                    0.0                  0.0   \n",
      "113855                0.0                    0.0                  0.0   \n",
      "113860                0.0                    0.0                  0.0   \n",
      "113863                0.0                    0.0                  0.0   \n",
      "113866                0.0                    0.0                  0.0   \n",
      "113877                0.0                    0.0                  0.0   \n",
      "113882                0.0                    0.0                  0.0   \n",
      "113886                0.0                    0.0                  0.0   \n",
      "113888                0.0                    0.0                  0.0   \n",
      "113892                0.0                    0.0                  0.0   \n",
      "113893                0.0                    0.0                  0.0   \n",
      "113894                0.0                    0.0                  0.0   \n",
      "113899                0.0                    0.0                  0.0   \n",
      "113900                0.0                    0.0                  0.0   \n",
      "113901                0.0                    0.0                  0.0   \n",
      "113912                0.0                    0.0                  0.0   \n",
      "113913                0.0                    0.0                  0.0   \n",
      "113924                0.0                    0.0                  0.0   \n",
      "113931                0.0                    0.0                  0.0   \n",
      "113933                0.0                    0.0                  0.0   \n",
      "113936                0.0                    0.0                  0.0   \n",
      "\n",
      "       LP_NonPrincipalRecoverypayments  PercentFunded  Recommendations  \\\n",
      "1                                  0.0         1.0000                0   \n",
      "3                                  0.0         1.0000                0   \n",
      "5                                  0.0         1.0000                0   \n",
      "8                                  0.0         1.0000                0   \n",
      "9                                  0.0         1.0000                0   \n",
      "13                                 0.0         1.0000                0   \n",
      "14                                 0.0         0.7731                0   \n",
      "18                                 0.0         1.0000                0   \n",
      "20                                 0.0         1.0000                0   \n",
      "27                                 0.0         1.0000                0   \n",
      "29                                 0.0         1.0000                0   \n",
      "30                                 0.0         1.0000                0   \n",
      "32                                 0.0         1.0000                0   \n",
      "33                                 0.0         1.0000                0   \n",
      "38                                 0.0         1.0000                0   \n",
      "45                                 0.0         1.0000                0   \n",
      "47                                 0.0         1.0000                1   \n",
      "48                                 0.0         1.0000                0   \n",
      "49                                 0.0         1.0000                0   \n",
      "52                                 0.0         1.0000                0   \n",
      "54                                 0.0         1.0000                0   \n",
      "55                                 0.0         1.0000                0   \n",
      "58                                 0.0         1.0000                0   \n",
      "61                                 0.0         1.0000                0   \n",
      "69                                 0.0         1.0000                0   \n",
      "77                                 0.0         1.0000                0   \n",
      "81                                 0.0         1.0000                0   \n",
      "95                                 0.0         1.0000                0   \n",
      "98                                 0.0         1.0000                0   \n",
      "99                                 0.0         1.0000                0   \n",
      "...                                ...            ...              ...   \n",
      "113781                             0.0         1.0000                0   \n",
      "113784                             0.0         1.0000                0   \n",
      "113789                             0.0         1.0000                0   \n",
      "113790                             0.0         1.0000                0   \n",
      "113796                             0.0         1.0000                0   \n",
      "113824                             0.0         1.0000                0   \n",
      "113837                             0.0         1.0000                0   \n",
      "113842                             0.0         1.0000                0   \n",
      "113844                             0.0         1.0000                0   \n",
      "113850                             0.0         1.0000                0   \n",
      "113855                             0.0         1.0000                0   \n",
      "113860                             0.0         1.0000                0   \n",
      "113863                             0.0         1.0000                0   \n",
      "113866                             0.0         1.0000                0   \n",
      "113877                             0.0         1.0000                0   \n",
      "113882                             0.0         1.0000                0   \n",
      "113886                             0.0         1.0000                0   \n",
      "113888                             0.0         1.0000                0   \n",
      "113892                             0.0         1.0000                0   \n",
      "113893                             0.0         1.0000                0   \n",
      "113894                             0.0         1.0000                0   \n",
      "113899                             0.0         1.0000                0   \n",
      "113900                             0.0         1.0000                0   \n",
      "113901                             0.0         1.0000                0   \n",
      "113912                             0.0         1.0000                0   \n",
      "113913                             0.0         1.0000                0   \n",
      "113924                             0.0         1.0000                1   \n",
      "113931                             0.0         1.0000                0   \n",
      "113933                             0.0         1.0000                0   \n",
      "113936                             0.0         1.0000                0   \n",
      "\n",
      "       InvestmentFromFriendsCount InvestmentFromFriendsAmount Investors  \n",
      "1                               0                         0.0         1  \n",
      "3                               0                         0.0       158  \n",
      "5                               0                         0.0         1  \n",
      "8                               0                         0.0         1  \n",
      "9                               0                         0.0         1  \n",
      "13                              0                         0.0       171  \n",
      "14                              0                         0.0       371  \n",
      "18                              0                         0.0       303  \n",
      "20                              0                         0.0         1  \n",
      "27                              0                         0.0       121  \n",
      "29                              0                         0.0         1  \n",
      "30                              0                         0.0        30  \n",
      "32                              0                         0.0         1  \n",
      "33                              0                         0.0       326  \n",
      "38                              0                         0.0       151  \n",
      "45                              0                         0.0       515  \n",
      "47                              0                         0.0         1  \n",
      "48                              0                         0.0         1  \n",
      "49                              0                         0.0       481  \n",
      "52                              0                         0.0        87  \n",
      "54                              0                         0.0         4  \n",
      "55                              0                         0.0         1  \n",
      "58                              0                         0.0        82  \n",
      "61                              0                         0.0         1  \n",
      "69                              0                         0.0         1  \n",
      "77                              0                         0.0       114  \n",
      "81                              0                         0.0       335  \n",
      "95                              0                         0.0         1  \n",
      "98                              0                         0.0         1  \n",
      "99                              0                         0.0       184  \n",
      "...                           ...                         ...       ...  \n",
      "113781                          0                         0.0       161  \n",
      "113784                          0                         0.0         1  \n",
      "113789                          0                         0.0         1  \n",
      "113790                          0                         0.0         1  \n",
      "113796                          0                         0.0         1  \n",
      "113824                          0                         0.0         1  \n",
      "113837                          0                         0.0        55  \n",
      "113842                          0                         0.0        54  \n",
      "113844                          0                         0.0         1  \n",
      "113850                          0                         0.0         1  \n",
      "113855                          0                         0.0       143  \n",
      "113860                          0                         0.0        77  \n",
      "113863                          0                         0.0         1  \n",
      "113866                          0                         0.0         1  \n",
      "113877                          0                         0.0       225  \n",
      "113882                          0                         0.0        56  \n",
      "113886                          0                         0.0         1  \n",
      "113888                          0                         0.0         1  \n",
      "113892                          0                         0.0         1  \n",
      "113893                          0                         0.0         1  \n",
      "113894                          0                         0.0        58  \n",
      "113899                          0                         0.0       148  \n",
      "113900                          0                         0.0         1  \n",
      "113901                          0                         0.0         1  \n",
      "113912                          0                         0.0         1  \n",
      "113913                          0                         0.0       265  \n",
      "113924                          0                         0.0        83  \n",
      "113931                          0                         0.0         1  \n",
      "113933                          0                         0.0        22  \n",
      "113936                          0                         0.0         1  \n",
      "\n",
      "[26687 rows x 81 columns]\n"
     ]
    }
   ],
   "source": [
    "#Lets look for outliers in the data\n",
    "#low outliers\n",
    "\n",
    "low_outliers = (data['EstimatedLoss'] < 0.05) | (data['EstimatedReturn'] < 0.05) | (data['BorrowerRate'] < 0.05)\n",
    "\n",
    "print(low_outliers.sum())\n",
    "print(data.loc[low_outliers,:])"
   ]
  },
  {
   "cell_type": "code",
   "execution_count": 55,
   "metadata": {},
   "outputs": [
    {
     "name": "stdout",
     "output_type": "stream",
     "text": [
      "84853\n",
      "                     ListingKey  ListingNumber            ListingCreationDate  \\\n",
      "1       10273602499503308B223C1        1209647  2014-02-27 08:28:07.900000000   \n",
      "3       0EF5356002482715299901A         658116  2012-10-22 11:02:35.010000000   \n",
      "4       0F023589499656230C5E3E2         909464  2013-09-14 18:38:39.097000000   \n",
      "5       0F05359734824199381F61D        1074836  2013-12-14 08:26:37.093000000   \n",
      "6       0F0A3576754255009D63151         750899  2013-04-12 09:52:56.147000000   \n",
      "7       0F1035772717087366F9EA7         768193  2013-05-05 06:49:27.493000000   \n",
      "8       0F043596202561788EA13D5        1023355  2013-12-02 10:43:39.117000000   \n",
      "9       0F043596202561788EA13D5        1023355  2013-12-02 10:43:39.117000000   \n",
      "10      0F123545674891886D9F106         587746  2012-05-10 07:04:01.577000000   \n",
      "12      0F1A3597143888805163EF7        1081604  2013-12-15 20:01:10.757000000   \n",
      "13      0F1C3583260311305D68F87         840820  2013-07-15 16:28:28.087000000   \n",
      "14      0F353575943675863D1AFC0         757359  2013-04-19 11:17:41.700000000   \n",
      "15      0F483544120452347F48121         577164  2012-04-10 09:14:46.297000000   \n",
      "16      0F4835843081468212F0892         841846  2013-07-16 12:42:48.680000000   \n",
      "18      0FF2357105361877390B58D         716058  2013-02-20 03:48:37.470000000   \n",
      "19      0FFC35866018516621B0D3F         875565  2013-08-21 06:49:02.093000000   \n",
      "20      101635959323992333B3C70        1011916  2013-11-22 11:35:02.987000000   \n",
      "22      101735700321773921526BF         706927  2013-01-30 09:36:13.783000000   \n",
      "23      101B35764008108187B2EBA         758964  2013-04-22 13:29:19.073000000   \n",
      "24      101B3596709094692AC79C0        1046345  2013-12-03 11:34:46.127000000   \n",
      "25      10223590888942486E3826E         950067  2013-10-02 14:31:09.157000000   \n",
      "26      0F4F3571508214190FD75CB         713131  2013-02-12 18:07:31.690000000   \n",
      "27      0F5034867864161084F3789         463083  2010-06-16 16:23:44.533000000   \n",
      "28      0F53359346357513247D86B         989519  2013-11-02 16:01:28.050000000   \n",
      "29      0F563597161095613517437        1051243  2013-12-17 09:18:33.220000000   \n",
      "30      0F57353904771934596FE9F         555213  2012-01-30 17:59:17.200000000   \n",
      "31      0F683558129866945165D36         643927  2012-09-21 13:37:43.210000000   \n",
      "32      0F683599787642317AE85C5        1132356  2014-01-10 11:19:14.947000000   \n",
      "33      0F6B3496936961316AEE1B2         478891  2010-10-10 13:23:30.757000000   \n",
      "34      0F6C3603015887476F3F015        1180690  2014-02-24 12:55:20.430000000   \n",
      "...                         ...            ...                            ...   \n",
      "113894  E32734699821101105178D8         438537  2009-12-15 18:50:46.193000000   \n",
      "113895  E69A3594436153917365EF9         990985  2013-11-12 19:23:58.323000000   \n",
      "113898  E6AD3479076761979835475         451665  2010-03-25 14:30:17.687000000   \n",
      "113899  E6BB34788205132176FCDD9         449436  2010-03-08 20:48:58.387000000   \n",
      "113900  E6BC360425933005095E619        1214162  2014-02-27 16:37:37.953000000   \n",
      "113901  E6C0359472136859318BE87        1011976  2013-11-22 11:43:49.750000000   \n",
      "113903  E6D5360239825759235A854        1182559  2014-02-24 17:01:03.320000000   \n",
      "113905  C97E35311333117565C8E84         539189  2011-11-15 15:32:05.890000000   \n",
      "113907  C982359388882926442DE72        1005215  2013-11-09 06:55:05.690000000   \n",
      "113908  C9843500054876019D611A1         486057  2010-11-29 10:40:09.730000000   \n",
      "113909  C98635564651525938EB38E         635880  2012-09-08 10:34:38.837000000   \n",
      "113910  C9873600264828351437CAB        1161059  2014-01-24 19:56:49.960000000   \n",
      "113911  C9883594035073098BC5D51         996496  2013-11-15 11:42:47.540000000   \n",
      "113912  C98A3597264633447D66DF9        1083677  2013-12-16 16:36:00.990000000   \n",
      "113913  D2013482695428940FAD9E3         455673  2010-04-25 15:13:27.963000000   \n",
      "113916  D2063562664602024E13D82         667047  2012-11-08 20:07:36.600000000   \n",
      "113917  D2063594229009539839457        1028126  2013-11-23 04:52:50.057000000   \n",
      "113919  D20C3577637248543A1F80C         772509  2013-05-07 18:49:59.750000000   \n",
      "113920  D20E358076984586576526D         804763  2013-06-11 05:49:40.247000000   \n",
      "113924  E340356181565702714DBCE         657862  2012-10-20 19:15:52.670000000   \n",
      "113925  E3423576946812123E4798D         760946  2013-04-25 13:54:45.017000000   \n",
      "113928  E34935176664905343E01EA         510097  2011-06-06 19:02:44.443000000   \n",
      "113929  E3553583161337791FCB87F         830413  2013-07-06 17:40:01.657000000   \n",
      "113930  E35D3584034795373BCD69A         831523  2013-07-08 10:24:49.700000000   \n",
      "113931  E36F36005339663245C20F8        1141292  2014-01-16 20:13:08.040000000   \n",
      "113932  E6D9357655724827169606C         753087  2013-04-14 05:55:02.663000000   \n",
      "113933  E6DB353036033497292EE43         537216  2011-11-03 20:42:55.333000000   \n",
      "113934  E6E13596170052029692BB1        1069178  2013-12-13 05:49:12.703000000   \n",
      "113935  E6EB3531504622671970D9E         539056  2011-11-14 13:18:26.597000000   \n",
      "113936  E6ED3600409833199F711B7        1140093  2014-01-15 09:27:37.657000000   \n",
      "\n",
      "       CreditGrade  Term              LoanStatus           ClosedDate  \\\n",
      "1              NaN    36                 Current                  NaN   \n",
      "3              NaN    36                 Current                  NaN   \n",
      "4              NaN    36                 Current                  NaN   \n",
      "5              NaN    60                 Current                  NaN   \n",
      "6              NaN    36                 Current                  NaN   \n",
      "7              NaN    36                 Current                  NaN   \n",
      "8              NaN    36                 Current                  NaN   \n",
      "9              NaN    36                 Current                  NaN   \n",
      "10             NaN    60                 Current                  NaN   \n",
      "12             NaN    36                     NaN                  NaN   \n",
      "13             NaN    36                 Current                  NaN   \n",
      "14             NaN    60                 Current                  NaN   \n",
      "15             NaN    36               Defaulted  2012-12-19 00:00:00   \n",
      "16             NaN    60                 Current                  NaN   \n",
      "18             NaN    36                 Current                  NaN   \n",
      "19             NaN    60                 Current                  NaN   \n",
      "20             NaN    36                 Current                  NaN   \n",
      "22             NaN    36                 Current                  NaN   \n",
      "23             NaN    36               Defaulted  2013-12-26 00:00:00   \n",
      "24             NaN    36                 Current                  NaN   \n",
      "25             NaN    36                 Current                  NaN   \n",
      "26             NaN    60               Completed  2013-10-22 00:00:00   \n",
      "27             NaN    36               Completed  2013-07-03 00:00:00   \n",
      "28             NaN    36                 Current                  NaN   \n",
      "29             NaN    36                 Current                  NaN   \n",
      "30             NaN    36               Completed  2012-12-19 00:00:00   \n",
      "31             NaN    36                 Current                  NaN   \n",
      "32             NaN    36                 Current                  NaN   \n",
      "33             NaN    36               Completed  2012-12-21 00:00:00   \n",
      "34             NaN    36                 Current                  NaN   \n",
      "...            ...   ...                     ...                  ...   \n",
      "113894         NaN    36               Completed  2010-02-26 00:00:00   \n",
      "113895         NaN    60                 Current                  NaN   \n",
      "113898         NaN    36               Completed  2013-02-28 00:00:00   \n",
      "113899         NaN    36               Completed  2013-03-18 00:00:00   \n",
      "113900         NaN    36                 Current                  NaN   \n",
      "113901         NaN    60                 Current                  NaN   \n",
      "113903         NaN    60                 Current                  NaN   \n",
      "113905         NaN    36                     NaN  2013-02-04 00:00:00   \n",
      "113907         NaN    36                 Current                  NaN   \n",
      "113908         NaN    36               Completed  2011-01-31 00:00:00   \n",
      "113909         NaN    60                 Current                  NaN   \n",
      "113910         NaN    36                 Current                  NaN   \n",
      "113911         NaN    36                 Current                  NaN   \n",
      "113912         NaN    36                 Current                  NaN   \n",
      "113913         NaN    36               Completed  2013-05-05 00:00:00   \n",
      "113916         NaN    36                 Current                  NaN   \n",
      "113917         NaN    36                 Current                  NaN   \n",
      "113919         NaN    36                 Current                  NaN   \n",
      "113920         NaN    36                 Current                  NaN   \n",
      "113924         NaN    60                 Current                  NaN   \n",
      "113925         NaN    36                 Current                  NaN   \n",
      "113928         NaN    36               Completed  2011-09-19 00:00:00   \n",
      "113929         NaN    36               Completed  2014-02-07 00:00:00   \n",
      "113930         NaN    36                 Current                  NaN   \n",
      "113931         NaN    60                 Current                  NaN   \n",
      "113932         NaN    36                 Current                  NaN   \n",
      "113933         NaN    36  FinalPaymentInProgress                  NaN   \n",
      "113934         NaN    60                 Current                  NaN   \n",
      "113935         NaN    60               Completed  2013-08-13 00:00:00   \n",
      "113936         NaN    36                 Current                  NaN   \n",
      "\n",
      "        BorrowerAPR  BorrowerRate  LenderYield    ...     LP_ServiceFees  \\\n",
      "1           0.12016        0.0920       0.0820    ...               0.00   \n",
      "3           0.12528        0.0974       0.0874    ...            -108.01   \n",
      "4           0.24614        0.2085       0.1985    ...             -60.27   \n",
      "5           0.15425        0.1314       0.1214    ...             -25.33   \n",
      "6           0.31032        0.2712       0.2612    ...             -22.95   \n",
      "7           0.23939        0.2019       0.1919    ...             -69.21   \n",
      "8           0.07620        0.0629       0.0529    ...             -16.77   \n",
      "9           0.07620        0.0629       0.0529    ...             -16.77   \n",
      "10          0.27462        0.2489       0.2389    ...            -214.04   \n",
      "12          0.17969        0.1435       0.1335    ...              -3.40   \n",
      "13          0.13138        0.1034       0.0934    ...             -46.42   \n",
      "14          0.11695        0.0949       0.0849    ...            -138.07   \n",
      "15          0.35797        0.3177       0.3077    ...              -9.81   \n",
      "16          0.30748        0.2809       0.2709    ...             -23.01   \n",
      "18          0.12528        0.0974       0.0874    ...            -121.47   \n",
      "19          0.24754        0.2225       0.2125    ...             -21.61   \n",
      "20          0.16732        0.1314       0.1214    ...             -34.11   \n",
      "22          0.35356        0.3134       0.3034    ...             -35.80   \n",
      "23          0.28032        0.2419       0.2319    ...              -4.89   \n",
      "24          0.19859        0.1620       0.1520    ...              -6.72   \n",
      "25          0.30182        0.2629       0.2529    ...             -13.11   \n",
      "26          0.30748        0.2809       0.2709    ...             -25.81   \n",
      "27          0.11296        0.0920       0.0820    ...             -64.62   \n",
      "28          0.20268        0.1660       0.1560    ...             -22.56   \n",
      "29          0.15223        0.1239       0.1139    ...             -29.73   \n",
      "30          0.12782        0.0999       0.0899    ...             -68.22   \n",
      "31          0.35797        0.3177       0.3077    ...             -23.95   \n",
      "32          0.16324        0.1274       0.1174    ...             -21.23   \n",
      "33          0.08191        0.0785       0.0685    ...            -196.82   \n",
      "34          0.22966        0.1920       0.1820    ...               0.00   \n",
      "...             ...           ...          ...    ...                ...   \n",
      "113894      0.07339        0.0700       0.0600    ...              -1.29   \n",
      "113895      0.20398        0.1800       0.1700    ...             -23.66   \n",
      "113898      0.16005        0.1385       0.1285    ...             -73.97   \n",
      "113899      0.11296        0.0920       0.0820    ...             -79.12   \n",
      "113900      0.16678        0.1305       0.1205    ...               0.00   \n",
      "113901      0.15016        0.1274       0.1174    ...             -49.80   \n",
      "113903      0.18426        0.1605       0.1505    ...               0.00   \n",
      "113905      0.35797        0.3177       0.3077    ...             -27.96   \n",
      "113907      0.35356        0.3134       0.3034    ...              -9.99   \n",
      "113908      0.35858        0.3220       0.3120    ...             -11.02   \n",
      "113909      0.27554        0.2498       0.2398    ...             -78.65   \n",
      "113910      0.32446        0.2850       0.2750    ...              -3.29   \n",
      "113911      0.25330        0.2155       0.2055    ...             -24.69   \n",
      "113912      0.06726        0.0605       0.0505    ...              -7.15   \n",
      "113913      0.12410        0.1030       0.0930    ...            -129.82   \n",
      "113916      0.33286        0.2932       0.2832    ...             -43.14   \n",
      "113917      0.32446        0.2850       0.2750    ...              -9.80   \n",
      "113919      0.27285        0.2346       0.2246    ...             -25.59   \n",
      "113920      0.35356        0.3134       0.3034    ...             -25.39   \n",
      "113924      0.17317        0.1499       0.1399    ...             -60.83   \n",
      "113925      0.31032        0.2712       0.2612    ...             -27.92   \n",
      "113928      0.22362        0.1899       0.1799    ...              -4.41   \n",
      "113929      0.30285        0.2639       0.2539    ...              -6.54   \n",
      "113930      0.20053        0.1639       0.1539    ...             -16.51   \n",
      "113931      0.15016        0.1274       0.1174    ...             -21.23   \n",
      "113932      0.22354        0.1864       0.1764    ...             -75.58   \n",
      "113933      0.13220        0.1110       0.1010    ...             -30.05   \n",
      "113934      0.23984        0.2150       0.2050    ...             -16.91   \n",
      "113935      0.28408        0.2605       0.2505    ...            -235.05   \n",
      "113936      0.13189        0.1039       0.0939    ...              -1.70   \n",
      "\n",
      "        LP_CollectionFees  LP_GrossPrincipalLoss  LP_NetPrincipalLoss  \\\n",
      "1                     0.0                   0.00                 0.00   \n",
      "3                     0.0                   0.00                 0.00   \n",
      "4                     0.0                   0.00                 0.00   \n",
      "5                     0.0                   0.00                 0.00   \n",
      "6                     0.0                   0.00                 0.00   \n",
      "7                     0.0                   0.00                 0.00   \n",
      "8                     0.0                   0.00                 0.00   \n",
      "9                     0.0                   0.00                 0.00   \n",
      "10                    0.0                   0.00                 0.00   \n",
      "12                    0.0                   0.00                 0.00   \n",
      "13                    0.0                   0.00                 0.00   \n",
      "14                    0.0                   0.00                 0.00   \n",
      "15                    0.0                3790.25              3790.25   \n",
      "16                    0.0                   0.00                 0.00   \n",
      "18                    0.0                   0.00                 0.00   \n",
      "19                    0.0                   0.00                 0.00   \n",
      "20                    0.0                   0.00                 0.00   \n",
      "22                    0.0                   0.00                 0.00   \n",
      "23                    0.0                1882.27              1882.27   \n",
      "24                    0.0                   0.00                 0.00   \n",
      "25                    0.0                   0.00                 0.00   \n",
      "26                    0.0                   0.00                 0.00   \n",
      "27                    0.0                   0.00                 0.00   \n",
      "28                    0.0                   0.00                 0.00   \n",
      "29                    0.0                   0.00                 0.00   \n",
      "30                    0.0                   0.00                 0.00   \n",
      "31                    0.0                   0.00                 0.00   \n",
      "32                    0.0                   0.00                 0.00   \n",
      "33                    0.0                   0.00                 0.00   \n",
      "34                    0.0                   0.00                 0.00   \n",
      "...                   ...                    ...                  ...   \n",
      "113894                0.0                   0.00                 0.00   \n",
      "113895                0.0                   0.00                 0.00   \n",
      "113898                0.0                   0.00                 0.00   \n",
      "113899                0.0                   0.00                 0.00   \n",
      "113900                0.0                   0.00                 0.00   \n",
      "113901                0.0                   0.00                 0.00   \n",
      "113903                0.0                   0.00                 0.00   \n",
      "113905                0.0                3325.15              3325.15   \n",
      "113907                0.0                   0.00                 0.00   \n",
      "113908                0.0                   0.00                 0.00   \n",
      "113909                0.0                   0.00                 0.00   \n",
      "113910                0.0                   0.00                 0.00   \n",
      "113911                0.0                   0.00                 0.00   \n",
      "113912                0.0                   0.00                 0.00   \n",
      "113913                0.0                   0.00                 0.00   \n",
      "113916                0.0                   0.00                 0.00   \n",
      "113917                0.0                   0.00                 0.00   \n",
      "113919                0.0                   0.00                 0.00   \n",
      "113920                0.0                   0.00                 0.00   \n",
      "113924                0.0                   0.00                 0.00   \n",
      "113925                0.0                   0.00                 0.00   \n",
      "113928                0.0                   0.00                 0.00   \n",
      "113929                0.0                   0.00                 0.00   \n",
      "113930                0.0                   0.00                 0.00   \n",
      "113931                0.0                   0.00                 0.00   \n",
      "113932                0.0                   0.00                 0.00   \n",
      "113933                0.0                   0.00                 0.00   \n",
      "113934                0.0                   0.00                 0.00   \n",
      "113935                0.0                   0.00                 0.00   \n",
      "113936                0.0                   0.00                 0.00   \n",
      "\n",
      "       LP_NonPrincipalRecoverypayments  PercentFunded  Recommendations  \\\n",
      "1                                  0.0         1.0000                0   \n",
      "3                                  0.0         1.0000                0   \n",
      "4                                  0.0         1.0000                0   \n",
      "5                                  0.0         1.0000                0   \n",
      "6                                  0.0         1.0000                0   \n",
      "7                                  0.0         1.0000                0   \n",
      "8                                  0.0         1.0000                0   \n",
      "9                                  0.0         1.0000                0   \n",
      "10                                 0.0         1.0000                0   \n",
      "12                                 0.0         1.0000                0   \n",
      "13                                 0.0         1.0000                0   \n",
      "14                                 0.0         0.7731                0   \n",
      "15                                 0.0         1.0000                0   \n",
      "16                                 0.0         1.0000                0   \n",
      "18                                 0.0         1.0000                0   \n",
      "19                                 0.0         1.0000                0   \n",
      "20                                 0.0         1.0000                0   \n",
      "22                                 0.0         1.0000                0   \n",
      "23                                 0.0         1.0000                0   \n",
      "24                                 0.0         1.0000                0   \n",
      "25                                 0.0         1.0000                0   \n",
      "26                                 0.0         1.0000                0   \n",
      "27                                 0.0         1.0000                0   \n",
      "28                                 0.0         1.0000                0   \n",
      "29                                 0.0         1.0000                0   \n",
      "30                                 0.0         1.0000                0   \n",
      "31                                 0.0         1.0000                0   \n",
      "32                                 0.0         1.0000                0   \n",
      "33                                 0.0         1.0000                0   \n",
      "34                                 0.0         1.0000                0   \n",
      "...                                ...            ...              ...   \n",
      "113894                             0.0         1.0000                0   \n",
      "113895                             0.0         1.0000                0   \n",
      "113898                             0.0         1.0000                0   \n",
      "113899                             0.0         1.0000                0   \n",
      "113900                             0.0         1.0000                0   \n",
      "113901                             0.0         1.0000                0   \n",
      "113903                             0.0         1.0000                0   \n",
      "113905                             0.0         1.0000                0   \n",
      "113907                             0.0         1.0000                0   \n",
      "113908                             0.0         1.0000                0   \n",
      "113909                             0.0         1.0000                0   \n",
      "113910                             0.0         1.0000                0   \n",
      "113911                             0.0         1.0000                0   \n",
      "113912                             0.0         1.0000                0   \n",
      "113913                             0.0         1.0000                0   \n",
      "113916                             0.0         1.0000                0   \n",
      "113917                             0.0         1.0000                0   \n",
      "113919                             0.0         1.0000                0   \n",
      "113920                             0.0         1.0000                0   \n",
      "113924                             0.0         1.0000                1   \n",
      "113925                             0.0         1.0000                0   \n",
      "113928                             0.0         1.0000                0   \n",
      "113929                             0.0         1.0000                0   \n",
      "113930                             0.0         1.0000                0   \n",
      "113931                             0.0         1.0000                0   \n",
      "113932                             0.0         1.0000                0   \n",
      "113933                             0.0         1.0000                0   \n",
      "113934                             0.0         1.0000                0   \n",
      "113935                             0.0         1.0000                0   \n",
      "113936                             0.0         1.0000                0   \n",
      "\n",
      "       InvestmentFromFriendsCount InvestmentFromFriendsAmount Investors  \n",
      "1                               0                         0.0         1  \n",
      "3                               0                         0.0       158  \n",
      "4                               0                         0.0        20  \n",
      "5                               0                         0.0         1  \n",
      "6                               0                         0.0         1  \n",
      "7                               0                         0.0         1  \n",
      "8                               0                         0.0         1  \n",
      "9                               0                         0.0         1  \n",
      "10                              0                         0.0        19  \n",
      "12                              0                         0.0         1  \n",
      "13                              0                         0.0       171  \n",
      "14                              0                         0.0       371  \n",
      "15                              0                         0.0        10  \n",
      "16                              0                         0.0         8  \n",
      "18                              0                         0.0       303  \n",
      "19                              0                         0.0         1  \n",
      "20                              0                         0.0         1  \n",
      "22                              0                         0.0        94  \n",
      "23                              0                         0.0        30  \n",
      "24                              0                         0.0         1  \n",
      "25                              0                         0.0         3  \n",
      "26                              0                         0.0        37  \n",
      "27                              0                         0.0       121  \n",
      "28                              0                         0.0         1  \n",
      "29                              0                         0.0         1  \n",
      "30                              0                         0.0        30  \n",
      "31                              0                         0.0        24  \n",
      "32                              0                         0.0         1  \n",
      "33                              0                         0.0       326  \n",
      "34                              0                         0.0         1  \n",
      "...                           ...                         ...       ...  \n",
      "113894                          0                         0.0        58  \n",
      "113895                          0                         0.0         1  \n",
      "113898                          0                         0.0       186  \n",
      "113899                          0                         0.0       148  \n",
      "113900                          0                         0.0         1  \n",
      "113901                          0                         0.0         1  \n",
      "113903                          0                         0.0       212  \n",
      "113905                          0                         0.0        69  \n",
      "113907                          0                         0.0         3  \n",
      "113908                          0                         0.0        98  \n",
      "113909                          0                         0.0         9  \n",
      "113910                          0                         0.0         1  \n",
      "113911                          0                         0.0         1  \n",
      "113912                          0                         0.0         1  \n",
      "113913                          0                         0.0       265  \n",
      "113916                          0                         0.0        87  \n",
      "113917                          0                         0.0         1  \n",
      "113919                          0                         0.0         1  \n",
      "113920                          0                         0.0         1  \n",
      "113924                          0                         0.0        83  \n",
      "113925                          0                         0.0         1  \n",
      "113928                          0                         0.0        25  \n",
      "113929                          0                         0.0        26  \n",
      "113930                          0                         0.0        52  \n",
      "113931                          0                         0.0         1  \n",
      "113932                          0                         0.0         1  \n",
      "113933                          0                         0.0        22  \n",
      "113934                          0                         0.0       119  \n",
      "113935                          0                         0.0       274  \n",
      "113936                          0                         0.0         1  \n",
      "\n",
      "[84853 rows x 81 columns]\n"
     ]
    }
   ],
   "source": [
    "#What are the high outliers in the data\n",
    "# high outliers\n",
    "\n",
    "high_outliers = (data['EstimatedLoss'] < 0.15) | (data['EstimatedReturn'] < 0.15) | (data['BorrowerRate'] < 0.35)\n",
    "\n",
    "print(high_outliers.sum())\n",
    "print(data.loc[high_outliers,:])"
   ]
  },
  {
   "cell_type": "markdown",
   "metadata": {},
   "source": []
  },
  {
   "cell_type": "markdown",
   "metadata": {},
   "source": [
    "### Discuss the distribution(s) of your variable(s) of interest. Were there any unusual points? Did you need to perform any transformations?\n",
    "\n",
    "> Most of the distrbution was around the 0 to 0.1 or 0.2 points. This tells us that the estiimated return and the estimated loss numbers are relatively low. The borrower rate is also fairly low between 0 and 0.3. Where the average borrower rate would be around 10%. \n",
    "\n",
    "### Of the features you investigated, were there any unusual distributions? Did you perform any operations on the data to tidy, adjust, or change the form of the data? If so, why did you do this?\n",
    "\n",
    "> Most of the distributions are fairly evenly distributed with one of being more skewed to the left and the other one being more skewed to the right. I did have to clean the data for any NaN values as it was messing with the graphs."
   ]
  },
  {
   "cell_type": "markdown",
   "metadata": {},
   "source": [
    "## Bivariate Exploration\n",
    "\n",
    "> In this section, investigate relationships between pairs of variables in your\n",
    "data. Make sure the variables that you cover here have been introduced in some\n",
    "fashion in the previous section (univariate exploration)."
   ]
  },
  {
   "cell_type": "code",
   "execution_count": 56,
   "metadata": {},
   "outputs": [],
   "source": [
    "#setting the numeric and categorical variables\n",
    "numeric_vars = ['EstimatedLoss', 'EstimatedReturn', 'BorrowerRate']\n",
    "categoric_vars = ['LoanStatus']"
   ]
  },
  {
   "cell_type": "markdown",
   "metadata": {},
   "source": [
    "### How do the numeric variables correlated with each other\n"
   ]
  },
  {
   "cell_type": "code",
   "execution_count": 57,
   "metadata": {},
   "outputs": [
    {
     "data": {
      "image/png": "[encoded data removed]",
      "text/plain": [
       "<matplotlib.figure.Figure at 0x7fcbebe6b518>"
      ]
     },
     "metadata": {
      "needs_background": "light"
     },
     "output_type": "display_data"
    }
   ],
   "source": [
    "#correlation plot\n",
    "\n",
    "plt.figure(figsize = [8, 5])\n",
    "sb.heatmap(data[numeric_vars].corr(), annot = True, fmt = '.3f',\n",
    "           cmap = 'vlag_r', center = 0)\n",
    "plt.show()"
   ]
  },
  {
   "cell_type": "markdown",
   "metadata": {},
   "source": [
    "#### the highest correlation is between 0.945 and 1.00"
   ]
  },
  {
   "cell_type": "markdown",
   "metadata": {},
   "source": [
    "### What do the numeric variables look like against the categorical ones?"
   ]
  },
  {
   "cell_type": "code",
   "execution_count": 58,
   "metadata": {},
   "outputs": [
    {
     "name": "stdout",
     "output_type": "stream",
     "text": [
      "data.shape= (84853, 81)\n",
      "data_samp.shape= (500, 81)\n"
     ]
    },
    {
     "data": {
      "text/plain": [
       "<seaborn.axisgrid.PairGrid at 0x7fcbf6cd1898>"
      ]
     },
     "execution_count": 58,
     "metadata": {},
     "output_type": "execute_result"
    },
    {
     "data": {
      "image/png": "[encoded data removed]",
      "text/plain": [
       "<matplotlib.figure.Figure at 0x7fcbf6051128>"
      ]
     },
     "metadata": {
      "needs_background": "light"
     },
     "output_type": "display_data"
    }
   ],
   "source": [
    "# plot matrix: sample 500 loans so that plots are clearer and they render faster\n",
    "print(\"data.shape=\",data.shape)\n",
    "data_samp = data.sample(n=500, replace = False)\n",
    "print(\"data_samp.shape=\",data_samp.shape)\n",
    "\n",
    "g = sb.PairGrid(data = data_samp, vars = numeric_vars)\n",
    "g = g.map_diag(plt.hist, bins = 20);\n",
    "g.map_offdiag(plt.scatter)"
   ]
  },
  {
   "cell_type": "markdown",
   "metadata": {},
   "source": [
    "#### We can see that there is a positive correlation between estimated loss and borrower rate and estimated return and borrower rate"
   ]
  },
  {
   "cell_type": "markdown",
   "metadata": {},
   "source": [
    "### What do the numeric features look like against the categorical features"
   ]
  },
  {
   "cell_type": "code",
   "execution_count": 59,
   "metadata": {},
   "outputs": [
    {
     "data": {
      "text/plain": [
       "<matplotlib.figure.Figure at 0x7fcbebc590b8>"
      ]
     },
     "metadata": {},
     "output_type": "display_data"
    },
    {
     "data": {
      "image/png": "[encoded data removed]",
      "text/plain": [
       "<matplotlib.figure.Figure at 0x7fcbebd0d390>"
      ]
     },
     "metadata": {
      "needs_background": "light"
     },
     "output_type": "display_data"
    }
   ],
   "source": [
    "# plot matrix of numeric features against categorical features.\n",
    "\n",
    "data_samp = data.sample(n=2000, replace = False)\n",
    "\n",
    "\n",
    "def boxgrid(x, y, **kwargs):\n",
    "    \"\"\" Quick hack for creating box plots with seaborn's PairGrid. \"\"\"\n",
    "    default_color = sb.color_palette()[0]\n",
    "    sb.boxplot(x=x, y=y, color=default_color)\n",
    "\n",
    "plt.figure(figsize = [20, 20])\n",
    "g = sb.PairGrid(data = data_samp, y_vars = ['EstimatedLoss'], x_vars = categoric_vars,\n",
    "                size = 3, aspect = 1.5)\n",
    "g.map(boxgrid)\n",
    "\n",
    "plt.xticks(rotation=45)\n",
    "plt.show();"
   ]
  },
  {
   "cell_type": "code",
   "execution_count": 60,
   "metadata": {},
   "outputs": [
    {
     "data": {
      "text/plain": [
       "<matplotlib.figure.Figure at 0x7fcbebbfd898>"
      ]
     },
     "metadata": {},
     "output_type": "display_data"
    },
    {
     "data": {
      "image/png": "[encoded data removed]",
      "text/plain": [
       "<matplotlib.figure.Figure at 0x7fcbebd6dcf8>"
      ]
     },
     "metadata": {
      "needs_background": "light"
     },
     "output_type": "display_data"
    }
   ],
   "source": [
    "data_samp = data.sample(n=2000, replace = False)\n",
    "\n",
    "\n",
    "def boxgrid(x, y, **kwargs):\n",
    "    \"\"\" Quick hack for creating box plots with seaborn's PairGrid. \"\"\"\n",
    "    default_color = sb.color_palette()[0]\n",
    "    sb.boxplot(x=x, y=y, color=default_color)\n",
    "\n",
    "plt.figure(figsize = [20, 20])\n",
    "g = sb.PairGrid(data = data_samp, y_vars = ['EstimatedReturn'], x_vars = categoric_vars,\n",
    "                size = 3, aspect = 1.5)\n",
    "g.map(boxgrid)\n",
    "\n",
    "plt.xticks(rotation=45)\n",
    "plt.show();"
   ]
  },
  {
   "cell_type": "code",
   "execution_count": 61,
   "metadata": {},
   "outputs": [
    {
     "data": {
      "text/plain": [
       "<matplotlib.figure.Figure at 0x7fcbf5f8c780>"
      ]
     },
     "metadata": {},
     "output_type": "display_data"
    },
    {
     "data": {
      "image/png": "[encoded data removed]",
      "text/plain": [
       "<matplotlib.figure.Figure at 0x7fcbf82a9320>"
      ]
     },
     "metadata": {
      "needs_background": "light"
     },
     "output_type": "display_data"
    }
   ],
   "source": [
    "#PLot the borrower Rate\n",
    "data_samp = data.sample(n=2000, replace = False)\n",
    "\n",
    "\n",
    "def boxgrid(x, y, **kwargs):\n",
    "    \"\"\" Quick hack for creating box plots with seaborn's PairGrid. \"\"\"\n",
    "    default_color = sb.color_palette()[0]\n",
    "    sb.boxplot(x=x, y=y, color=default_color)\n",
    "\n",
    "plt.figure(figsize = [20, 20])\n",
    "g = sb.PairGrid(data = data_samp, y_vars = ['BorrowerRate'], x_vars = categoric_vars,\n",
    "                size = 3, aspect = 1.5)\n",
    "g.map(boxgrid)\n",
    "\n",
    "plt.xticks(rotation=45)\n",
    "plt.show();"
   ]
  },
  {
   "cell_type": "markdown",
   "metadata": {},
   "source": [
    "#### Estimated loss completed has the most high outliers\n",
    "#### Estimated return completed has the most low outliers\n",
    "#### Borrower rate has no outliers"
   ]
  },
  {
   "cell_type": "code",
   "execution_count": 62,
   "metadata": {},
   "outputs": [],
   "source": [
    "# compute the logarithm of LP_netprincipalLoss\n",
    "\n",
    "def log_trans(x, inverse = False):\n",
    "    if not inverse:\n",
    "        return np.log(x)\n",
    "    else:\n",
    "        return np.power(10,x)\n",
    "\n",
    "data['log_EstimatedLoss'] = data['EstimatedLoss'].apply(log_trans)\n",
    "data['log_EstimatedReturn'] = data['EstimatedReturn'].apply(log_trans)"
   ]
  },
  {
   "cell_type": "code",
   "execution_count": 63,
   "metadata": {},
   "outputs": [],
   "source": [
    "def cuberoot_trans(x, inverse = False):\n",
    "    \"\"\" quick function for computing cube root and cube operations \"\"\"\n",
    "    if not inverse:\n",
    "        return x ** (1/3)\n",
    "    else:\n",
    "        return x ** 3\n"
   ]
  },
  {
   "cell_type": "markdown",
   "metadata": {},
   "source": [
    "### What does the estimated return vs estimated loss look like?"
   ]
  },
  {
   "cell_type": "code",
   "execution_count": 64,
   "metadata": {},
   "outputs": [
    {
     "data": {
      "image/png": "[encoded data removed]",
      "text/plain": [
       "<matplotlib.figure.Figure at 0x7fcbebd30400>"
      ]
     },
     "metadata": {
      "needs_background": "light"
     },
     "output_type": "display_data"
    }
   ],
   "source": [
    "#Scatter plot to show the estimated return vs the estimated loss\n",
    "plt.scatter(data=data, x='EstimatedReturn', y = 'EstimatedLoss',s = 1);"
   ]
  },
  {
   "cell_type": "markdown",
   "metadata": {},
   "source": [
    "#### there seems to be no clear relationship between return and loss"
   ]
  },
  {
   "cell_type": "markdown",
   "metadata": {},
   "source": [
    "### What does the borrower rate vs estimated loss look like?"
   ]
  },
  {
   "cell_type": "code",
   "execution_count": 65,
   "metadata": {},
   "outputs": [
    {
     "data": {
      "image/png": "[encoded data removed]",
      "text/plain": [
       "<matplotlib.figure.Figure at 0x7fcbebf2ff98>"
      ]
     },
     "metadata": {
      "needs_background": "light"
     },
     "output_type": "display_data"
    }
   ],
   "source": [
    "# scatter plot to show the borrower rate vs the estimated loss\n",
    "plt.scatter(data=data, x='BorrowerRate', y = 'EstimatedLoss',s = 1);"
   ]
  },
  {
   "cell_type": "markdown",
   "metadata": {},
   "source": [
    "#### There is a positive relationship between borrowerrate and estimated loss"
   ]
  },
  {
   "cell_type": "markdown",
   "metadata": {},
   "source": [
    "### Talk about some of the relationships you observed in this part of the investigation. How did the feature(s) of interest vary with other features in the dataset?\n",
    "\n",
    "> The estimated loss had a medium correlation to estimated return and  a high correlation with the borrower rate. I expected the high correlation between the borrower rate and the estimated loss because I assumed that the borrower rate would be higher for clients who have a higher estimated loss. Usually interest rates are higher for people who are seen as a greater risk. I expected estimated loss and estimated return to have an inverse correlation as they seemed to be inversely related. But as the graph shows they do have some correlation. \n",
    "\n",
    "### Did you observe any interesting relationships between the other features (not the main feature(s) of interest)?\n",
    "\n",
    "> There is a positive relationship between Estimated Return and borrower rate."
   ]
  },
  {
   "cell_type": "markdown",
   "metadata": {},
   "source": [
    "## Multivariate Exploration\n",
    "\n",
    "> Create plots of three or more variables to investigate your data even\n",
    "further. Make sure that your investigations are justified, and follow from\n",
    "your work in the previous sections."
   ]
  },
  {
   "cell_type": "code",
   "execution_count": 66,
   "metadata": {},
   "outputs": [],
   "source": [
    "def hist2dgrid(x, y, **kwargs):\n",
    "    \"\"\" Quick hack for creating heat maps with seaborn's PairGrid. \"\"\"\n",
    "    palette = kwargs.pop('color')\n",
    "    bins_x = np.arange(-.2, .29+0.025, .025)\n",
    "    bins_y = np.arange(0.1, 0.4+0.025, 0.025)\n",
    "    plt.hist2d(x, y, bins = [bins_x, bins_y], cmap = palette, cmin = 0.5)\n"
   ]
  },
  {
   "cell_type": "markdown",
   "metadata": {},
   "source": [
    "### What does estimated loss and return based on loan status look like?"
   ]
  },
  {
   "cell_type": "code",
   "execution_count": 67,
   "metadata": {},
   "outputs": [
    {
     "data": {
      "image/png": "[encoded data removed]",
      "text/plain": [
       "<matplotlib.figure.Figure at 0x7fcbf80d43c8>"
      ]
     },
     "metadata": {
      "needs_background": "light"
     },
     "output_type": "display_data"
    }
   ],
   "source": [
    "# create faceted heat maps on estimated loss and return based on loan status\n",
    "g = sb.FacetGrid(data = data, col = 'LoanStatus', col_wrap = 3, size = 3,\n",
    "                 xlim = [cuberoot_trans(.18), cuberoot_trans(3.5)])\n",
    "g.map(hist2dgrid, 'EstimatedReturn', 'EstimatedLoss', color = 'seismic')\n",
    "g.set_xlabels('Return')\n",
    "g.set_ylabels('Loss')\n",
    "\n",
    "# create a 'subplot' for the colorbar\n",
    "cbar_ax = g.fig.add_axes([1.015,0.13,0.015,0.8])\n",
    "# create color bar, place it in the 'subplot'\n",
    "cbar = plt.colorbar(cax=cbar_ax)\n",
    "cbar.set_label('Frequency',rotation=270)\n",
    "\n",
    "# IF a visualization has subplots, add a MAIN title \n",
    "plt.suptitle(\"Distribution of return and loss by loan status\".title(), y=1, fontsize=12, weight = 'bold')\n",
    "\n",
    "## Set plot Dimensions -Figure Level\n",
    "g.fig.set_size_inches(14,6);\n",
    "\n",
    "plt.show()"
   ]
  },
  {
   "cell_type": "markdown",
   "metadata": {},
   "source": [
    "#### completed current and past due have the most correlation"
   ]
  },
  {
   "cell_type": "markdown",
   "metadata": {},
   "source": [
    "### What does estimated loss and borrower rate based on loan status look like?"
   ]
  },
  {
   "cell_type": "code",
   "execution_count": 68,
   "metadata": {},
   "outputs": [
    {
     "data": {
      "image/png": "[encoded data removed]",
      "text/plain": [
       "<matplotlib.figure.Figure at 0x7fcbf81da828>"
      ]
     },
     "metadata": {
      "needs_background": "light"
     },
     "output_type": "display_data"
    }
   ],
   "source": [
    "# create faceted heat maps on estimated loss and borrower rate based on loan status\n",
    "g = sb.FacetGrid(data = data, col = 'LoanStatus', col_wrap = 3, size = 3,\n",
    "                 xlim = [cuberoot_trans(.18), cuberoot_trans(3.5)])\n",
    "g.map(hist2dgrid, 'EstimatedLoss', 'BorrowerRate', color = 'seismic')\n",
    "g.set_xlabels('Loss')\n",
    "g.set_ylabels('Rate')\n",
    "\n",
    "# create a 'subplot' for the colorbar\n",
    "cbar_ax = g.fig.add_axes([1.015,0.13,0.015,0.8])\n",
    "# create color bar, place it in the 'subplot'\n",
    "cbar = plt.colorbar(cax=cbar_ax)\n",
    "cbar.set_label('Frequency',rotation=270)\n",
    "\n",
    "# IF a visualization has subplots, add a MAIN title \n",
    "plt.suptitle(\"Distribution of rate and loss by loan status\".title(), y=1, fontsize=12, weight = 'bold')\n",
    "\n",
    "## Set plot Dimensions -Figure Level\n",
    "g.fig.set_size_inches(14,6);\n",
    "\n",
    "plt.show()"
   ]
  },
  {
   "cell_type": "markdown",
   "metadata": {},
   "source": [
    "#### Final payment progress and past due have the highest correlation"
   ]
  },
  {
   "cell_type": "markdown",
   "metadata": {},
   "source": [
    "### What does estimated return and borrower rate based on loan status look like?"
   ]
  },
  {
   "cell_type": "code",
   "execution_count": 69,
   "metadata": {},
   "outputs": [
    {
     "data": {
      "image/png": "[encoded data removed]",
      "text/plain": [
       "<matplotlib.figure.Figure at 0x7fcbe97366d8>"
      ]
     },
     "metadata": {
      "needs_background": "light"
     },
     "output_type": "display_data"
    }
   ],
   "source": [
    "# create faceted heat maps on estimated return and borrower rate based on loan status\n",
    "g = sb.FacetGrid(data = data, col = 'LoanStatus', col_wrap = 3, size = 3,\n",
    "                 xlim = [cuberoot_trans(.18), cuberoot_trans(3.5)])\n",
    "g.map(hist2dgrid, 'EstimatedReturn', 'BorrowerRate', color = 'seismic')\n",
    "g.set_xlabels('Return')\n",
    "g.set_ylabels('Rate')\n",
    "\n",
    "# create a 'subplot' for the colorbar\n",
    "cbar_ax = g.fig.add_axes([1.015,0.13,0.015,0.8])\n",
    "# create color bar, place it in the 'subplot'\n",
    "cbar = plt.colorbar(cax=cbar_ax)\n",
    "cbar.set_label('Frequency',rotation=270)\n",
    "\n",
    "# IF a visualization has subplots, add a MAIN title \n",
    "plt.suptitle(\"Distribution of return and rate by loan status\".title(), y=1, fontsize=12, weight = 'bold')\n",
    "\n",
    "## Set plot Dimensions -Figure Level\n",
    "g.fig.set_size_inches(14,6);\n",
    "\n",
    "plt.show()"
   ]
  },
  {
   "cell_type": "markdown",
   "metadata": {},
   "source": [
    "#### final payment in progress has the highest correlation"
   ]
  },
  {
   "cell_type": "markdown",
   "metadata": {},
   "source": [
    "### Talk about some of the relationships you observed in this part of the investigation. Were there features that strengthened each other in terms of looking at your feature(s) of interest?\n",
    "\n",
    "> Yes there were features that strengthen each other. The borrower rate and the estimated return had this relationship with each other. \n",
    "\n",
    "### Were there any interesting or surprising interactions between features?\n",
    "\n",
    "> Looking at the point plots, it dows not seem like there is a systematic interaction effect between the ffeatures. "
   ]
  },
  {
   "cell_type": "markdown",
   "metadata": {},
   "source": [
    "## Conclusions\n",
    "> the estimated return and the estimated loss numbers are relatively low. The borrower rate is also fairly low between 0 and 0.3. Where the average borrower rate would be around 10%.  Most of the distributions are fairly evenly distributed with one of being more skewed to the left and the other one being more skewed to the right.  Usually interest rates are higher for people who are seen as a greater risk. I expected estimated loss and estimated return to have an inverse correlation as they seemed to be inversely related. But as the graph shows they do have some correlation. \n",
    "\n"
   ]
  },
  {
   "cell_type": "markdown",
   "metadata": {},
   "source": [
    "\n"
   ]
  },
  {
   "cell_type": "code",
   "execution_count": null,
   "metadata": {},
   "outputs": [],
   "source": []
  }
 ],
 "metadata": {
  "kernelspec": {
   "display_name": "Python 3",
   "language": "python",
   "name": "python3"
  },
  "language_info": {
   "codemirror_mode": {
    "name": "ipython",
    "version": 3
   },
   "file_extension": ".py",
   "mimetype": "text/x-python",
   "name": "python",
   "nbconvert_exporter": "python",
   "pygments_lexer": "ipython3",
   "version": "3.6.3"
  }
 },
 "nbformat": 4,
 "nbformat_minor": 2
}
